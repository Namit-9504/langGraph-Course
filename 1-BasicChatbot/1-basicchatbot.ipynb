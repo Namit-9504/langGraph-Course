{
 "cells": [
  {
   "cell_type": "markdown",
   "id": "a8a30e24",
   "metadata": {},
   "source": [
    "## Build A Basic ChatBot With LangGraph(Graph API)"
   ]
  },
  {
   "cell_type": "code",
   "execution_count": 2,
   "id": "387503f0",
   "metadata": {},
   "outputs": [],
   "source": [
    "from typing import Annotated\n",
    "\n",
    "from typing_extensions import TypedDict\n",
    "\n",
    "from langgraph.graph import StateGraph , START , END\n",
    "from langgraph.graph.message import add_messages"
   ]
  },
  {
   "cell_type": "markdown",
   "id": "522c7cbf",
   "metadata": {},
   "source": [
    "add_messages is a one reducer which helps to store information in state variable by appending.\n",
    "It appends in new information in that variable."
   ]
  },
  {
   "cell_type": "code",
   "execution_count": 3,
   "id": "b3cd31af",
   "metadata": {},
   "outputs": [],
   "source": [
    "class State(TypedDict):\n",
    "    # Messages have the type \"list\". The 'add_messages' function\n",
    "    # in the annotation defines how this state key should be updated\n",
    "    # (in this case, it appends messages to the list, rather than overwritin them)\n",
    "    messages:Annotated[list,add_messages]\n",
    "\n"
   ]
  },
  {
   "cell_type": "code",
   "execution_count": 4,
   "id": "fe5cfa00",
   "metadata": {},
   "outputs": [
    {
     "data": {
      "text/plain": [
       "True"
      ]
     },
     "execution_count": 4,
     "metadata": {},
     "output_type": "execute_result"
    }
   ],
   "source": [
    "import os\n",
    "from dotenv import load_dotenv\n",
    "load_dotenv()"
   ]
  },
  {
   "cell_type": "code",
   "execution_count": 5,
   "id": "3dcd141d",
   "metadata": {},
   "outputs": [],
   "source": [
    "#There are 2 ways to interact with llms \n",
    "from langchain_groq import ChatGroq # 1st Way\n",
    "from langchain.chat_models import init_chat_model  # 2nd Way\n",
    "\n",
    "llm=ChatGroq(model=\"llama3-8b-8192\")"
   ]
  },
  {
   "cell_type": "code",
   "execution_count": 6,
   "id": "8c473bc5",
   "metadata": {},
   "outputs": [
    {
     "data": {
      "text/plain": [
       "ChatGroq(client=<groq.resources.chat.completions.Completions object at 0x0000024726BD5310>, async_client=<groq.resources.chat.completions.AsyncCompletions object at 0x0000024726D248F0>, model_name='llama3-8b-8192', model_kwargs={}, groq_api_key=SecretStr('**********'))"
      ]
     },
     "execution_count": 6,
     "metadata": {},
     "output_type": "execute_result"
    }
   ],
   "source": [
    "llm"
   ]
  },
  {
   "cell_type": "code",
   "execution_count": 7,
   "id": "c7b99623",
   "metadata": {},
   "outputs": [
    {
     "data": {
      "text/plain": [
       "ChatGroq(client=<groq.resources.chat.completions.Completions object at 0x0000024726D250D0>, async_client=<groq.resources.chat.completions.AsyncCompletions object at 0x0000024726D25610>, model_name='llama3-8b-8192', model_kwargs={}, groq_api_key=SecretStr('**********'))"
      ]
     },
     "execution_count": 7,
     "metadata": {},
     "output_type": "execute_result"
    }
   ],
   "source": [
    "llm=init_chat_model(\"groq:llama3-8b-8192\")\n",
    "llm"
   ]
  },
  {
   "cell_type": "code",
   "execution_count": 8,
   "id": "45748e2c",
   "metadata": {},
   "outputs": [],
   "source": [
    "# For Every node there is a node defination\n",
    "def chatbot(state:State):\n",
    "    return{\"messages\":[llm.invoke(state[\"messages\"])]} "
   ]
  },
  {
   "cell_type": "code",
   "execution_count": 9,
   "id": "77fc9c13",
   "metadata": {},
   "outputs": [],
   "source": [
    "graph_builder = StateGraph(State)\n",
    "\n",
    "#add node\n",
    "graph_builder.add_node(\"llmchatbot\",chatbot)\n",
    "#add edge\n",
    "graph_builder.add_edge(START,\"llmchatbot\")\n",
    "graph_builder.add_edge(\"llmchatbot\",END)\n",
    "\n",
    "\n",
    "# compile the Graph\n",
    "graph=graph_builder.compile()"
   ]
  },
  {
   "cell_type": "code",
   "execution_count": 10,
   "id": "3d2880bc",
   "metadata": {},
   "outputs": [
    {
     "data": {
      "image/png": "[encoded data removed]",
      "text/plain": [
       "<IPython.core.display.Image object>"
      ]
     },
     "metadata": {},
     "output_type": "display_data"
    }
   ],
   "source": [
    "##Visualize the graph\n",
    "from IPython.display import Image,display\n",
    "try:\n",
    "    display(Image(graph.get_graph().draw_mermaid_png()))\n",
    "except Exception:\n",
    "    pass"
   ]
  },
  {
   "cell_type": "code",
   "execution_count": 11,
   "id": "771b8776",
   "metadata": {},
   "outputs": [],
   "source": [
    "responce=graph.invoke({'messages':\"Hi\"})"
   ]
  },
  {
   "cell_type": "code",
   "execution_count": 12,
   "id": "dde2909e",
   "metadata": {},
   "outputs": [
    {
     "data": {
      "text/plain": [
       "\"Hi! It's nice to meet you. Is there something I can help you with or would you like to chat?\""
      ]
     },
     "execution_count": 12,
     "metadata": {},
     "output_type": "execute_result"
    }
   ],
   "source": [
    "responce[\"messages\"][-1].content"
   ]
  },
  {
   "cell_type": "code",
   "execution_count": 13,
   "id": "041c4576",
   "metadata": {},
   "outputs": [
    {
     "name": "stdout",
     "output_type": "stream",
     "text": [
      "Hi! I'm just an AI, so I don't have feelings like humans do, but I'm functioning properly and ready to help you with any questions or tasks you may have! How about you? How's your day going so far?\n"
     ]
    }
   ],
   "source": [
    "for event in graph.stream({\"messages\":\"Hii how are you?\"}):\n",
    "    for value in event.values():\n",
    "        print(value[\"messages\"][-1].content)"
   ]
  },
  {
   "cell_type": "markdown",
   "id": "a8243c88",
   "metadata": {},
   "source": [
    "# ChatBot With Tool"
   ]
  },
  {
   "cell_type": "code",
   "execution_count": 14,
   "id": "6a294c12",
   "metadata": {},
   "outputs": [
    {
     "data": {
      "text/plain": [
       "{'query': 'What is Langgraph',\n",
       " 'follow_up_questions': None,\n",
       " 'answer': None,\n",
       " 'images': [],\n",
       " 'results': [{'title': 'What is LangGraph? - IBM',\n",
       "   'url': 'https://www.ibm.com/think/topics/langgraph',\n",
       "   'content': 'LangGraph, created by LangChain, is an open source AI agent framework designed to build, deploy and manage complex generative AI agent workflows. At its core, LangGraph uses the power of graph-based architectures to model and manage the intricate relationships between various components of an AI agent workflow. LangGraph illuminates the processes within an AI workflow, allowing full transparency of the agent’s state. By combining these technologies with a set of APIs and tools, LangGraph provides users with a versatile platform for developing AI solutions and workflows including chatbots, state graphs and other agent-based systems. Nodes: In LangGraph, nodes represent individual components or agents within an AI workflow. LangGraph uses enhanced decision-making by modeling complex relationships between nodes, which means it uses AI agents to analyze their past actions and feedback.',\n",
       "   'score': 0.9449999,\n",
       "   'raw_content': None},\n",
       "  {'title': 'What is LangGraph? - GeeksforGeeks',\n",
       "   'url': 'https://www.geeksforgeeks.org/machine-learning/what-is-langgraph/',\n",
       "   'content': 'LangGraph is a Python library that helps you build applications like chatbots or AI agents by organizing their logic step-by-step using state machine model. This step configures your Gemini API key and then we create a simple function ask_gemini that takes user input, sends it to the Gemini model and returns the AI-generated response. Creates a state structure with three fields: question, classification and response which flows through the LangGraph. import matplotlib.pyplot as plt from langgraph.graph import StateGraph\\u200bbuilder = StateGraph(GraphState)builder.add_node(\"classify\", classify)builder.add_node(\"respond\", respond)builder.set_entry_point(\"classify\")builder.add_edge(\"classify\", \"respond\")builder.set_finish_point(\"respond\")app = builder.compile()\\u200bdef visualize_workflow(builder): G = nx.DiGraph()\\u200b for node in builder.nodes: G.add_node(node) for edge in builder.edges: G.add_edge(edge[0], edge[1])\\u200b pos = nx.spring_layout(G) nx.draw(G, pos, with_labels=True, node_size=3000, node_color=\"skyblue\", font_size=12, font_weight=\"bold\", arrows=True)  plt.title(\"Langchain Workflow Visualization\") plt.show()\\u200bvisualize_workflow(builder)',\n",
       "   'score': 0.9119436,\n",
       "   'raw_content': None}],\n",
       " 'response_time': 1.89}"
      ]
     },
     "execution_count": 14,
     "metadata": {},
     "output_type": "execute_result"
    }
   ],
   "source": [
    "from langchain_tavily import TavilySearch\n",
    "\n",
    "tool= TavilySearch(max_results=2)\n",
    "tool.invoke(\"What is Langgraph\")"
   ]
  },
  {
   "cell_type": "code",
   "execution_count": 15,
   "id": "c6ad80f6",
   "metadata": {},
   "outputs": [],
   "source": [
    "# what is doc stream ---- Here the data in triple \"\" is a doc stream\n",
    "def multiply(a:int,b:int)->int:\n",
    "    \"\"\"\n",
    "    Multiply a and b\n",
    "\n",
    "    Args :\n",
    "        a (int): first int\n",
    "        b (int): second int\n",
    "    Returns :\n",
    "        int: output int\n",
    "    \"\"\"\n",
    "    return a*b"
   ]
  },
  {
   "cell_type": "code",
   "execution_count": 16,
   "id": "9b8c9f3d",
   "metadata": {},
   "outputs": [],
   "source": [
    "tools = [tool,multiply]"
   ]
  },
  {
   "cell_type": "code",
   "execution_count": 17,
   "id": "1de2f5a1",
   "metadata": {},
   "outputs": [],
   "source": [
    "llm_with_tool=llm.bind_tools(tools)"
   ]
  },
  {
   "cell_type": "code",
   "execution_count": 18,
   "id": "30055ffc",
   "metadata": {},
   "outputs": [
    {
     "data": {
      "text/plain": [
       "RunnableBinding(bound=ChatGroq(client=<groq.resources.chat.completions.Completions object at 0x0000024726D250D0>, async_client=<groq.resources.chat.completions.AsyncCompletions object at 0x0000024726D25610>, model_name='llama3-8b-8192', model_kwargs={}, groq_api_key=SecretStr('**********')), kwargs={'tools': [{'type': 'function', 'function': {'name': 'tavily_search', 'description': 'A search engine optimized for comprehensive, accurate, and trusted results. Useful for when you need to answer questions about current events. It not only retrieves URLs and snippets, but offers advanced search depths, domain management, time range filters, and image search, this tool delivers real-time, accurate, and citation-backed results.Input should be a search query.', 'parameters': {'properties': {'query': {'description': 'Search query to look up', 'type': 'string'}, 'include_domains': {'anyOf': [{'items': {'type': 'string'}, 'type': 'array'}, {'type': 'null'}], 'default': [], 'description': 'A list of domains to restrict search results to.\\n\\n        Use this parameter when:\\n        1. The user explicitly requests information from specific websites (e.g., \"Find climate data from nasa.gov\")\\n        2. The user mentions an organization or company without specifying the domain (e.g., \"Find information about iPhones from Apple\")\\n\\n        In both cases, you should determine the appropriate domains (e.g., [\"nasa.gov\"] or [\"apple.com\"]) and set this parameter.\\n\\n        Results will ONLY come from the specified domains - no other sources will be included.\\n        Default is None (no domain restriction).\\n        '}, 'exclude_domains': {'anyOf': [{'items': {'type': 'string'}, 'type': 'array'}, {'type': 'null'}], 'default': [], 'description': 'A list of domains to exclude from search results.\\n\\n        Use this parameter when:\\n        1. The user explicitly requests to avoid certain websites (e.g., \"Find information about climate change but not from twitter.com\")\\n        2. The user mentions not wanting results from specific organizations without naming the domain (e.g., \"Find phone reviews but nothing from Apple\")\\n\\n        In both cases, you should determine the appropriate domains to exclude (e.g., [\"twitter.com\"] or [\"apple.com\"]) and set this parameter.\\n\\n        Results will filter out all content from the specified domains.\\n        Default is None (no domain exclusion).\\n        '}, 'search_depth': {'anyOf': [{'enum': ['basic', 'advanced'], 'type': 'string'}, {'type': 'null'}], 'default': 'basic', 'description': 'Controls search thoroughness and result comprehensiveness.\\n    \\n        Use \"basic\" for simple queries requiring quick, straightforward answers.\\n        \\n        Use \"advanced\" (default) for complex queries, specialized topics, \\n        rare information, or when in-depth analysis is needed.\\n        '}, 'include_images': {'anyOf': [{'type': 'boolean'}, {'type': 'null'}], 'default': False, 'description': 'Determines if the search returns relevant images along with text results.\\n   \\n        Set to True when the user explicitly requests visuals or when images would \\n        significantly enhance understanding (e.g., \"Show me what black holes look like,\" \\n        \"Find pictures of Renaissance art\").\\n        \\n        Leave as False (default) for most informational queries where text is sufficient.\\n        '}, 'time_range': {'anyOf': [{'enum': ['day', 'week', 'month', 'year'], 'type': 'string'}, {'type': 'null'}], 'default': None, 'description': 'Limits results to content published within a specific timeframe.\\n        \\n        ONLY set this when the user explicitly mentions a time period \\n        (e.g., \"latest AI news,\" \"articles from last week\").\\n        \\n        For less popular or niche topics, use broader time ranges \\n        (\"month\" or \"year\") to ensure sufficient relevant results.\\n   \\n        Options: \"day\" (24h), \"week\" (7d), \"month\" (30d), \"year\" (365d).\\n        \\n        Default is None.\\n        '}, 'topic': {'anyOf': [{'enum': ['general', 'news', 'finance'], 'type': 'string'}, {'type': 'null'}], 'default': 'general', 'description': 'Specifies search category for optimized results.\\n   \\n        Use \"general\" (default) for most queries, INCLUDING those with terms like \\n        \"latest,\" \"newest,\" or \"recent\" when referring to general information.\\n\\n        Use \"finance\" for markets, investments, economic data, or financial news.\\n\\n        Use \"news\" ONLY for politics, sports, or major current events covered by \\n        mainstream media - NOT simply because a query asks for \"new\" information.\\n        '}}, 'required': ['query'], 'type': 'object'}}}, {'type': 'function', 'function': {'name': 'multiply', 'description': 'Multiply a and b Args :\\n    a (int): first int\\n    b (int): second int\\nReturns :\\n    int: output int', 'parameters': {'properties': {'a': {'type': 'integer'}, 'b': {'type': 'integer'}}, 'required': ['a', 'b'], 'type': 'object'}}}]}, config={}, config_factories=[])"
      ]
     },
     "execution_count": 18,
     "metadata": {},
     "output_type": "execute_result"
    }
   ],
   "source": [
    "llm_with_tool"
   ]
  },
  {
   "cell_type": "code",
   "execution_count": 19,
   "id": "62bdf0c7",
   "metadata": {},
   "outputs": [],
   "source": [
    "class State(TypedDict):\n",
    "    # Messages have the type \"list\". The 'add_messages' function\n",
    "    # in the annotation defines how this state key should be updated\n",
    "    # (in this case, it appends messages to the list, rather than overwritin them)\n",
    "    messages:Annotated[list,add_messages]\n"
   ]
  },
  {
   "cell_type": "code",
   "execution_count": 20,
   "id": "02bd8740",
   "metadata": {},
   "outputs": [
    {
     "data": {
      "image/png": "[encoded data removed]",
      "text/plain": [
       "<IPython.core.display.Image object>"
      ]
     },
     "metadata": {},
     "output_type": "display_data"
    }
   ],
   "source": [
    "## StateGraph\n",
    "from langgraph.graph import StateGraph , START , END\n",
    "from langgraph.prebuilt import ToolNode\n",
    "from langgraph.prebuilt import tools_condition\n",
    "\n",
    "# Node Defination \n",
    "def tool_calling_llm(state:State):\n",
    "    return {\"messages\":[llm_with_tool.invoke(state[\"messages\"])]}\n",
    "\n",
    "# Graph\n",
    "builder=StateGraph(State)\n",
    "builder.add_node(\"tool_calling_llm\",tool_calling_llm)\n",
    "builder.add_node(\"tools\",ToolNode(tools))\n",
    "\n",
    "# Add Edges \n",
    "builder.add_edge(START,\"tool_calling_llm\")\n",
    "builder.add_conditional_edges(\n",
    "    \"tool_calling_llm\",\n",
    "    # If the latest message (result) from assistant is a tool call - > tools_condition routes to tools\n",
    "    # If the latest message (result) from assistant is a not a tool call - > tools_condition routes to END\n",
    "    tools_condition\n",
    ")\n",
    "\n",
    "builder.add_edge(\"tools\",END)\n",
    "\n",
    "## Compile the graph\n",
    "graph=builder.compile()\n",
    "\n",
    "display(Image(graph.get_graph().draw_mermaid_png())) \n",
    "\n",
    "\n",
    "\n",
    "\n"
   ]
  },
  {
   "cell_type": "code",
   "execution_count": 21,
   "id": "c7f22cb5",
   "metadata": {},
   "outputs": [],
   "source": [
    "responce=graph.invoke({\"messages\":\"What is the recent ai news\"})"
   ]
  },
  {
   "cell_type": "code",
   "execution_count": 22,
   "id": "f011cdc8",
   "metadata": {},
   "outputs": [
    {
     "data": {
      "text/plain": [
       "'{\"query\": \"recent ai news\", \"follow_up_questions\": null, \"answer\": null, \"images\": [], \"results\": [{\"url\": \"https://www.csoonline.com/article/4008912/wormgpt-returns-new-malicious-ai-variants-built-on-grok-and-mixtral-uncovered.html\", \"title\": \"WormGPT returns: New malicious AI variants built on Grok and Mixtral uncovered - csoonline.com\", \"score\": 0.70214266, \"published_date\": \"Wed, 18 Jun 2025 12:17:59 GMT\", \"content\": \"news ### New npm threats can erase production systems with a single request Jun 10, 2025 3 mins\\\\n   news ### Chrome extension privacy promises undone by hardcoded secrets, leaky HTTP Jun 9, 2025 4 mins\\\\n   news ### New phishing campaign hijacks clipboard via fake CAPTCHA for malware delivery Jun 6, 2025 4 mins\\\\n   news ### Supply chain attack hits RubyGems to steal Telegram API data Jun 5, 2025 4 mins [...] Related content\\\\n---------------\\\\n\\\\nOpinion ### Security, risk and compliance in the world of AI agents By Nikhil Sarnot Jun 17, 2025 12 mins Artificial Intelligence Compliance IT GovernanceNews ### Phishing goes prime time: Hackers use trusted sites to hijack search rankings By Shweta Sharma Jun 17, 2025 5 mins Phishing SecurityNews ### Malicious PyPI package targets Chimera users to steal AWS tokens, CI/CD secrets By Shweta Sharma Jun 17, 2025 4 mins Developer Malware Security\", \"raw_content\": null}, {\"url\": \"https://www.csoonline.com/article/4009603/north-koreas-bluenoroff-uses-ai-deepfakes-to-push-mac-malware-in-fake-zoom-calls.html\", \"title\": \"North Korea’s BlueNoroff uses AI deepfakes to push Mac malware in fake Zoom calls - csoonline.com\", \"score\": 0.6615081, \"published_date\": \"Thu, 19 Jun 2025 12:06:34 GMT\", \"content\": \"Related content\\\\n---------------\\\\n\\\\nNews ### WormGPT returns: New malicious AI variants built on Grok and Mixtral uncovered By Shweta Sharma Jun 18, 2025 4 mins Generative AI Malware SecurityNews ### Malicious PyPI package targets Chimera users to steal AWS tokens, CI/CD secrets By Shweta Sharma Jun 17, 2025 4 mins Developer Malware SecurityNews ### Major infostealer network taken down in Interpol raid By Viktor Eriksson Jun 12, 2025 2 mins Identity and Access Management Malware Security [...] news ### China-linked hackers target cybersecurity firms, governments in global espionage campaign Jun 11, 2025 4 mins\\\\n   news ### New npm threats can erase production systems with a single request Jun 10, 2025 3 mins\\\\n   news ### Chrome extension privacy promises undone by hardcoded secrets, leaky HTTP Jun 9, 2025 4 mins\\\\n   news ### New phishing campaign hijacks clipboard via fake CAPTCHA for malware delivery Jun 6, 2025 4 mins\", \"raw_content\": null}], \"response_time\": 1.37}'"
      ]
     },
     "execution_count": 22,
     "metadata": {},
     "output_type": "execute_result"
    }
   ],
   "source": [
    "responce['messages'][-1].content"
   ]
  },
  {
   "cell_type": "code",
   "execution_count": 23,
   "id": "bd1d54f2",
   "metadata": {},
   "outputs": [
    {
     "name": "stdout",
     "output_type": "stream",
     "text": [
      "================================\u001b[1m Human Message \u001b[0m=================================\n",
      "\n",
      "What is the recent ai news\n",
      "==================================\u001b[1m Ai Message \u001b[0m==================================\n",
      "Tool Calls:\n",
      "  tavily_search (kvnc57g6k)\n",
      " Call ID: kvnc57g6k\n",
      "  Args:\n",
      "    query: recent ai news\n",
      "    search_depth: advanced\n",
      "    topic: news\n",
      "=================================\u001b[1m Tool Message \u001b[0m=================================\n",
      "Name: tavily_search\n",
      "\n",
      "{\"query\": \"recent ai news\", \"follow_up_questions\": null, \"answer\": null, \"images\": [], \"results\": [{\"url\": \"https://www.csoonline.com/article/4008912/wormgpt-returns-new-malicious-ai-variants-built-on-grok-and-mixtral-uncovered.html\", \"title\": \"WormGPT returns: New malicious AI variants built on Grok and Mixtral uncovered - csoonline.com\", \"score\": 0.70214266, \"published_date\": \"Wed, 18 Jun 2025 12:17:59 GMT\", \"content\": \"news ### New npm threats can erase production systems with a single request Jun 10, 2025 3 mins\\n   news ### Chrome extension privacy promises undone by hardcoded secrets, leaky HTTP Jun 9, 2025 4 mins\\n   news ### New phishing campaign hijacks clipboard via fake CAPTCHA for malware delivery Jun 6, 2025 4 mins\\n   news ### Supply chain attack hits RubyGems to steal Telegram API data Jun 5, 2025 4 mins [...] Related content\\n---------------\\n\\nOpinion ### Security, risk and compliance in the world of AI agents By Nikhil Sarnot Jun 17, 2025 12 mins Artificial Intelligence Compliance IT GovernanceNews ### Phishing goes prime time: Hackers use trusted sites to hijack search rankings By Shweta Sharma Jun 17, 2025 5 mins Phishing SecurityNews ### Malicious PyPI package targets Chimera users to steal AWS tokens, CI/CD secrets By Shweta Sharma Jun 17, 2025 4 mins Developer Malware Security\", \"raw_content\": null}, {\"url\": \"https://www.csoonline.com/article/4009603/north-koreas-bluenoroff-uses-ai-deepfakes-to-push-mac-malware-in-fake-zoom-calls.html\", \"title\": \"North Korea’s BlueNoroff uses AI deepfakes to push Mac malware in fake Zoom calls - csoonline.com\", \"score\": 0.6615081, \"published_date\": \"Thu, 19 Jun 2025 12:06:34 GMT\", \"content\": \"Related content\\n---------------\\n\\nNews ### WormGPT returns: New malicious AI variants built on Grok and Mixtral uncovered By Shweta Sharma Jun 18, 2025 4 mins Generative AI Malware SecurityNews ### Malicious PyPI package targets Chimera users to steal AWS tokens, CI/CD secrets By Shweta Sharma Jun 17, 2025 4 mins Developer Malware SecurityNews ### Major infostealer network taken down in Interpol raid By Viktor Eriksson Jun 12, 2025 2 mins Identity and Access Management Malware Security [...] news ### China-linked hackers target cybersecurity firms, governments in global espionage campaign Jun 11, 2025 4 mins\\n   news ### New npm threats can erase production systems with a single request Jun 10, 2025 3 mins\\n   news ### Chrome extension privacy promises undone by hardcoded secrets, leaky HTTP Jun 9, 2025 4 mins\\n   news ### New phishing campaign hijacks clipboard via fake CAPTCHA for malware delivery Jun 6, 2025 4 mins\", \"raw_content\": null}], \"response_time\": 1.37}\n"
     ]
    }
   ],
   "source": [
    "for m in responce['messages']:\n",
    "    m.pretty_print()"
   ]
  },
  {
   "cell_type": "code",
   "execution_count": 24,
   "id": "6695b024",
   "metadata": {},
   "outputs": [
    {
     "name": "stdout",
     "output_type": "stream",
     "text": [
      "================================\u001b[1m Human Message \u001b[0m=================================\n",
      "\n",
      "What is 2 multiplied by 3 and then multiply by 10\n",
      "==================================\u001b[1m Ai Message \u001b[0m==================================\n",
      "Tool Calls:\n",
      "  multiply (gkwtg6j74)\n",
      " Call ID: gkwtg6j74\n",
      "  Args:\n",
      "    a: 2\n",
      "    b: 3\n",
      "  multiply (87kyv9n91)\n",
      " Call ID: 87kyv9n91\n",
      "  Args:\n",
      "    a: 6\n",
      "    b: 10\n",
      "=================================\u001b[1m Tool Message \u001b[0m=================================\n",
      "Name: multiply\n",
      "\n",
      "6\n",
      "=================================\u001b[1m Tool Message \u001b[0m=================================\n",
      "Name: multiply\n",
      "\n",
      "60\n"
     ]
    }
   ],
   "source": [
    "responce=graph.invoke({\"messages\":\"What is 2 multiplied by 3 and then multiply by 10\"})\n",
    "for m in responce['messages']:\n",
    "    m.pretty_print()"
   ]
  },
  {
   "cell_type": "code",
   "execution_count": 25,
   "id": "bc24e11a",
   "metadata": {},
   "outputs": [
    {
     "name": "stdout",
     "output_type": "stream",
     "text": [
      "================================\u001b[1m Human Message \u001b[0m=================================\n",
      "\n",
      "Give me recent ai news and 2 multiplied by 3 and then multipy by 10\n",
      "==================================\u001b[1m Ai Message \u001b[0m==================================\n",
      "\n",
      "/tool-use>\n",
      "{\n",
      "    \"tool_calls\": [\n",
      "        {\n",
      "            \"id\": \"pending\",\n",
      "            \"type\": \"function\",\n",
      "            \"function\": {\n",
      "                \"name\": \"tavily_search\"\n",
      "            },\n",
      "            \"parameters\": {\n",
      "                \"query\": \"recent ai news\",\n",
      "                \"search_depth\": \"advanced\",\n",
      "                \"time_range\": \"day\"\n",
      "            }\n",
      "        },\n",
      "        {\n",
      "            \"id\": \"pending\",\n",
      "            \"type\": \"function\",\n",
      "            \"function\": {\n",
      "                \"name\": \"multiply\"\n",
      "            },\n",
      "            \"parameters\": {\n",
      "                \"a\": 2,\n",
      "                \"b\": 3\n",
      "            }\n",
      "        },\n",
      "        {\n",
      "            \"id\": \"pending\",\n",
      "            \"type\": \"function\",\n",
      "            \"function\": {\n",
      "                \"name\": \"multiply\"\n",
      "            },\n",
      "            \"parameters\": {\n",
      "                \"a\": 6,\n",
      "                \"b\": 10\n",
      "            }\n",
      "        }\n",
      "    ]\n",
      "}\n",
      "</tool-use>\n"
     ]
    }
   ],
   "source": [
    "responce=graph.invoke({\"messages\":\"Give me recent ai news and 2 multiplied by 3 and then multipy by 10\"})\n",
    "for m in responce['messages']:\n",
    "    m.pretty_print()"
   ]
  },
  {
   "cell_type": "markdown",
   "id": "fe32008d",
   "metadata": {},
   "source": [
    "# ReACT Agent Architecture"
   ]
  },
  {
   "cell_type": "code",
   "execution_count": 26,
   "id": "8bed5062",
   "metadata": {},
   "outputs": [
    {
     "data": {
      "image/png": "[encoded data removed]",
      "text/plain": [
       "<IPython.core.display.Image object>"
      ]
     },
     "metadata": {},
     "output_type": "display_data"
    }
   ],
   "source": [
    "## StateGraph\n",
    "from langgraph.graph import StateGraph , START , END\n",
    "from langgraph.prebuilt import ToolNode\n",
    "from langgraph.prebuilt import tools_condition\n",
    "\n",
    "# Node Defination \n",
    "def tool_calling_llm(state:State):\n",
    "    return {\"messages\":[llm_with_tool.invoke(state[\"messages\"])]}\n",
    "\n",
    "# Graph\n",
    "builder=StateGraph(State)\n",
    "builder.add_node(\"tool_calling_llm\",tool_calling_llm)\n",
    "builder.add_node(\"tools\",ToolNode(tools))\n",
    "\n",
    "# Add Edges \n",
    "builder.add_edge(START,\"tool_calling_llm\")\n",
    "builder.add_conditional_edges(\n",
    "    \"tool_calling_llm\",\n",
    "    # If the latest message (result) from assistant is a tool call - > tools_condition routes to tools\n",
    "    # If the latest message (result) from assistant is a not a tool call - > tools_condition routes to END\n",
    "    tools_condition\n",
    ")\n",
    " \n",
    "builder.add_edge(\"tools\",\"tool_calling_llm\") #change\n",
    "builder.add_edge(\"tool_calling_llm\",END) # change\n",
    "## Compile the graph\n",
    "graph=builder.compile()\n",
    "\n",
    "display(Image(graph.get_graph().draw_mermaid_png())) "
   ]
  },
  {
   "cell_type": "code",
   "execution_count": 27,
   "id": "85e65287",
   "metadata": {},
   "outputs": [
    {
     "name": "stdout",
     "output_type": "stream",
     "text": [
      "================================\u001b[1m Human Message \u001b[0m=================================\n",
      "\n",
      "Give me the recent ai news and then multiply 5 by 10\n",
      "==================================\u001b[1m Ai Message \u001b[0m==================================\n",
      "Tool Calls:\n",
      "  tavily_search (c71eftefv)\n",
      " Call ID: c71eftefv\n",
      "  Args:\n",
      "    query: recent ai news\n",
      "    search_depth: advanced\n",
      "    topic: news\n",
      "=================================\u001b[1m Tool Message \u001b[0m=================================\n",
      "Name: tavily_search\n",
      "\n",
      "{\"query\": \"recent ai news\", \"follow_up_questions\": null, \"answer\": null, \"images\": [], \"results\": [{\"url\": \"https://www.csoonline.com/article/4008912/wormgpt-returns-new-malicious-ai-variants-built-on-grok-and-mixtral-uncovered.html\", \"title\": \"WormGPT returns: New malicious AI variants built on Grok and Mixtral uncovered - csoonline.com\", \"score\": 0.70214266, \"published_date\": \"Wed, 18 Jun 2025 12:17:59 GMT\", \"content\": \"news ### New npm threats can erase production systems with a single request Jun 10, 2025 3 mins\\n   news ### Chrome extension privacy promises undone by hardcoded secrets, leaky HTTP Jun 9, 2025 4 mins\\n   news ### New phishing campaign hijacks clipboard via fake CAPTCHA for malware delivery Jun 6, 2025 4 mins\\n   news ### Supply chain attack hits RubyGems to steal Telegram API data Jun 5, 2025 4 mins [...] Related content\\n---------------\\n\\nOpinion ### Security, risk and compliance in the world of AI agents By Nikhil Sarnot Jun 17, 2025 12 mins Artificial Intelligence Compliance IT GovernanceNews ### Phishing goes prime time: Hackers use trusted sites to hijack search rankings By Shweta Sharma Jun 17, 2025 5 mins Phishing SecurityNews ### Malicious PyPI package targets Chimera users to steal AWS tokens, CI/CD secrets By Shweta Sharma Jun 17, 2025 4 mins Developer Malware Security\", \"raw_content\": null}, {\"url\": \"https://www.csoonline.com/article/4009603/north-koreas-bluenoroff-uses-ai-deepfakes-to-push-mac-malware-in-fake-zoom-calls.html\", \"title\": \"North Korea’s BlueNoroff uses AI deepfakes to push Mac malware in fake Zoom calls - csoonline.com\", \"score\": 0.6615081, \"published_date\": \"Thu, 19 Jun 2025 12:06:34 GMT\", \"content\": \"Related content\\n---------------\\n\\nNews ### WormGPT returns: New malicious AI variants built on Grok and Mixtral uncovered By Shweta Sharma Jun 18, 2025 4 mins Generative AI Malware SecurityNews ### Malicious PyPI package targets Chimera users to steal AWS tokens, CI/CD secrets By Shweta Sharma Jun 17, 2025 4 mins Developer Malware SecurityNews ### Major infostealer network taken down in Interpol raid By Viktor Eriksson Jun 12, 2025 2 mins Identity and Access Management Malware Security [...] news ### China-linked hackers target cybersecurity firms, governments in global espionage campaign Jun 11, 2025 4 mins\\n   news ### New npm threats can erase production systems with a single request Jun 10, 2025 3 mins\\n   news ### Chrome extension privacy promises undone by hardcoded secrets, leaky HTTP Jun 9, 2025 4 mins\\n   news ### New phishing campaign hijacks clipboard via fake CAPTCHA for malware delivery Jun 6, 2025 4 mins\", \"raw_content\": null}], \"response_time\": 1.38}\n",
      "==================================\u001b[1m Ai Message \u001b[0m==================================\n",
      "\n",
      "Based on the output of the tool call \"c71eftefv\", I will now multiply 5 by 10.\n",
      "\n",
      "The result is: 50\n"
     ]
    }
   ],
   "source": [
    "responce=graph.invoke({\"messages\" : \"Give me the recent ai news and then multiply 5 by 10\"})\n",
    "for m in responce['messages']:\n",
    "    m.pretty_print()\n"
   ]
  },
  {
   "cell_type": "markdown",
   "id": "a907d263",
   "metadata": {},
   "source": [
    "# Adding Memory In Agentic Graph"
   ]
  },
  {
   "cell_type": "code",
   "execution_count": 28,
   "id": "5afda67c",
   "metadata": {},
   "outputs": [
    {
     "name": "stdout",
     "output_type": "stream",
     "text": [
      "================================\u001b[1m Human Message \u001b[0m=================================\n",
      "\n",
      "Heyyy! My Name is Namit\n",
      "==================================\u001b[1m Ai Message \u001b[0m==================================\n",
      "\n",
      "Nice to meet you, Namit! How can I assist you today?\n"
     ]
    }
   ],
   "source": [
    "responce=graph.invoke({\"messages\" : \"Heyyy! My Name is Namit\"})\n",
    "for m in responce['messages']:\n",
    "    m.pretty_print()\n"
   ]
  },
  {
   "cell_type": "code",
   "execution_count": 29,
   "id": "aa0a824e",
   "metadata": {},
   "outputs": [
    {
     "name": "stdout",
     "output_type": "stream",
     "text": [
      "================================\u001b[1m Human Message \u001b[0m=================================\n",
      "\n",
      "What is My name\n",
      "==================================\u001b[1m Ai Message \u001b[0m==================================\n",
      "\n",
      "I'm happy to help you with that! However, I don't have any information about your name. Could you please provide me with more context or clarify what you mean by \"My name\"? Are you asking about your username, your real name, or something else?\n"
     ]
    }
   ],
   "source": [
    "responce=graph.invoke({\"messages\" : \"What is My name\"})\n",
    "for m in responce['messages']:\n",
    "    m.pretty_print()"
   ]
  },
  {
   "cell_type": "code",
   "execution_count": 30,
   "id": "e037ac79",
   "metadata": {},
   "outputs": [
    {
     "data": {
      "image/png": "[encoded data removed]",
      "text/plain": [
       "<IPython.core.display.Image object>"
      ]
     },
     "metadata": {},
     "output_type": "display_data"
    }
   ],
   "source": [
    "## StateGraph\n",
    "from langgraph.graph import StateGraph , START , END\n",
    "from langgraph.prebuilt import ToolNode\n",
    "from langgraph.prebuilt import tools_condition\n",
    "from langgraph.checkpoint.memory import MemorySaver #chnage\n",
    "\n",
    "memory = MemorySaver() #change\n",
    "\n",
    "# Node Defination \n",
    "def tool_calling_llm(state:State):\n",
    "    return {\"messages\":[llm_with_tool.invoke(state[\"messages\"])]}\n",
    "\n",
    "# Graph\n",
    "builder=StateGraph(State)\n",
    "builder.add_node(\"tool_calling_llm\",tool_calling_llm)\n",
    "builder.add_node(\"tools\",ToolNode(tools))\n",
    "\n",
    "# Add Edges \n",
    "builder.add_edge(START,\"tool_calling_llm\")\n",
    "builder.add_conditional_edges(\n",
    "    \"tool_calling_llm\",\n",
    "    # If the latest message (result) from assistant is a tool call - > tools_condition routes to tools\n",
    "    # If the latest message (result) from assistant is a not a tool call - > tools_condition routes to END\n",
    "    tools_condition\n",
    ")\n",
    " \n",
    "builder.add_edge(\"tools\",\"tool_calling_llm\") #change\n",
    "builder.add_edge(\"tool_calling_llm\",END) # change\n",
    "## Compile the graph\n",
    "graph=builder.compile(checkpointer=memory)\n",
    "\n",
    "display(Image(graph.get_graph().draw_mermaid_png())) "
   ]
  },
  {
   "cell_type": "code",
   "execution_count": 31,
   "id": "3c97ac14",
   "metadata": {},
   "outputs": [
    {
     "data": {
      "text/plain": [
       "{'messages': [HumanMessage(content='My name is Namit', additional_kwargs={}, response_metadata={}, id='69cc6a67-ed29-4a37-b373-bbd7a841e7fd'),\n",
       "  AIMessage(content='Nice to meet you, Namit!', additional_kwargs={}, response_metadata={'token_usage': {'completion_tokens': 9, 'prompt_tokens': 2204, 'total_tokens': 2213, 'completion_time': 0.014655738, 'prompt_time': 0.431755542, 'queue_time': 0.6111733380000001, 'total_time': 0.44641128}, 'model_name': 'llama3-8b-8192', 'system_fingerprint': 'fp_24ec19897b', 'finish_reason': 'stop', 'logprobs': None}, id='run--c6bcb08d-d695-4e13-9536-63f27bc37347-0', usage_metadata={'input_tokens': 2204, 'output_tokens': 9, 'total_tokens': 2213})]}"
      ]
     },
     "execution_count": 31,
     "metadata": {},
     "output_type": "execute_result"
    }
   ],
   "source": [
    "config={\"configurable\":{'thread_id':\"1\"}}\n",
    "\n",
    "responce=graph.invoke({\"messages\":\"My name is Namit\"},config=config)\n",
    "responce"
   ]
  },
  {
   "cell_type": "code",
   "execution_count": 32,
   "id": "c6f7e65e",
   "metadata": {},
   "outputs": [
    {
     "data": {
      "text/plain": [
       "'Nice to meet you, Namit!'"
      ]
     },
     "execution_count": 32,
     "metadata": {},
     "output_type": "execute_result"
    }
   ],
   "source": [
    "responce['messages'][-1].content"
   ]
  },
  {
   "cell_type": "code",
   "execution_count": 33,
   "id": "449d3e2e",
   "metadata": {},
   "outputs": [],
   "source": [
    "responce=graph.invoke({\"messages\":\"tell  My Name\"},config=config)"
   ]
  },
  {
   "cell_type": "code",
   "execution_count": 34,
   "id": "8e3a2dd2",
   "metadata": {},
   "outputs": [
    {
     "data": {
      "text/plain": [
       "'Based on the result of the tool call id \"f4e9jts72\", I see that you are interested in learning more about the name \"Namit\". \\n\\nHere\\'s a summary of what I found: \\n\\n- Namit is generally perceived as a positive and meaningful name, carrying connotations of humility, reverence, and sincerity.\\n- It is appreciated for its cultural significance and unique sound.\\n- The name Namit is associated with positive feelings such as being humble, respectful, sincere, kind, intelligent, grounded, spiritual, strong, and unique.\\n- According to namediscoveries.com, the name Namit is of Indian origin and has a meaning and origin that reflects creativity, communication, charisma, and independence.\\n\\nI hope this information helps you understand more about the name \"Namit\". Let me know if you have any further questions or if there\\'s anything else I can help you with!'"
      ]
     },
     "execution_count": 34,
     "metadata": {},
     "output_type": "execute_result"
    }
   ],
   "source": [
    "responce['messages'][-1].content"
   ]
  },
  {
   "cell_type": "markdown",
   "id": "b4d61d4d",
   "metadata": {},
   "source": [
    "# Streaming"
   ]
  },
  {
   "cell_type": "code",
   "execution_count": 35,
   "id": "94692cbb",
   "metadata": {},
   "outputs": [],
   "source": [
    "from langgraph.checkpoint.memory import MemorySaver\n",
    "memory=MemorySaver()"
   ]
  },
  {
   "cell_type": "code",
   "execution_count": 36,
   "id": "b6dae8ef",
   "metadata": {},
   "outputs": [],
   "source": [
    "def superbot(state:State):\n",
    "    return {'messages':[llm.invoke(state['messages'])]}"
   ]
  },
  {
   "cell_type": "code",
   "execution_count": 37,
   "id": "f92a93d4",
   "metadata": {},
   "outputs": [
    {
     "data": {
      "image/png": "[encoded data removed]",
      "text/plain": [
       "<IPython.core.display.Image object>"
      ]
     },
     "metadata": {},
     "output_type": "display_data"
    }
   ],
   "source": [
    "graph=StateGraph(State)\n",
    "\n",
    "#node \n",
    "graph.add_node(\"Superbot\",superbot)\n",
    "\n",
    "#edge\n",
    "graph.add_edge(START,\"Superbot\")\n",
    "graph.add_edge(\"Superbot\",END)\n",
    "\n",
    "graph_builder=graph.compile(checkpointer=memory)\n",
    "\n",
    "## Display\n",
    "from IPython.display import display , Image\n",
    "display(Image(graph_builder.get_graph().draw_mermaid_png()))"
   ]
  },
  {
   "cell_type": "code",
   "execution_count": 38,
   "id": "cdd76f33",
   "metadata": {},
   "outputs": [
    {
     "data": {
      "text/plain": [
       "{'messages': [HumanMessage(content='Hii, My name is Namit And I Like Cricket', additional_kwargs={}, response_metadata={}, id='854d176f-6e22-4c65-91d7-4786e9209e41'),\n",
       "  AIMessage(content=\"Hello Namit! Nice to meet you! Cricket is a fantastic sport, isn't it? Who's your favorite cricketer or team? Do you play cricket yourself or are you more of a fan?\", additional_kwargs={}, response_metadata={'token_usage': {'completion_tokens': 43, 'prompt_tokens': 22, 'total_tokens': 65, 'completion_time': 0.07880329, 'prompt_time': 0.009938416, 'queue_time': 2.275033939, 'total_time': 0.088741706}, 'model_name': 'llama3-8b-8192', 'system_fingerprint': 'fp_24ec19897b', 'finish_reason': 'stop', 'logprobs': None}, id='run--49cec53d-c645-41e9-8e3c-e88b9fea27b4-0', usage_metadata={'input_tokens': 22, 'output_tokens': 43, 'total_tokens': 65})]}"
      ]
     },
     "execution_count": 38,
     "metadata": {},
     "output_type": "execute_result"
    }
   ],
   "source": [
    "## Invocation \n",
    "\n",
    "config={\"configurable\":{'thread_id':\"1\"}}\n",
    "\n",
    "graph_builder.invoke({\"messages\":\"Hii, My name is Namit And I Like Cricket\"},config)\n"
   ]
  },
  {
   "cell_type": "markdown",
   "id": "ad70bba6",
   "metadata": {},
   "source": [
    "### Streaming\n",
    "Methods: . stream() and astream()\n",
    "- These methods are sync and async methods for streaming back results.\n",
    "\n",
    "Additional parameters in streaming modes for graph state\n",
    "\n",
    "- **values**: This streams the full state of the graph after each node is called.\n",
    "- **updates** : This streams updates to the state of the graph after each node is called."
   ]
  },
  {
   "cell_type": "code",
   "execution_count": 39,
   "id": "17777c92",
   "metadata": {},
   "outputs": [
    {
     "name": "stdout",
     "output_type": "stream",
     "text": [
      "{'Superbot': {'messages': [AIMessage(content=\"Hi Namit! Nice to meet you! Cricket is a fantastic sport, isn't it? Which team do you support? Do you have a favorite player or a favorite match or series that you remember vividly?\", additional_kwargs={}, response_metadata={'token_usage': {'completion_tokens': 44, 'prompt_tokens': 22, 'total_tokens': 66, 'completion_time': 0.079172133, 'prompt_time': 0.021423037, 'queue_time': 0.150452732, 'total_time': 0.10059517}, 'model_name': 'llama3-8b-8192', 'system_fingerprint': 'fp_24ec19897b', 'finish_reason': 'stop', 'logprobs': None}, id='run--e5e01ecc-2277-4397-8be2-de6b3896ece7-0', usage_metadata={'input_tokens': 22, 'output_tokens': 44, 'total_tokens': 66})]}}\n"
     ]
    }
   ],
   "source": [
    "## Create a thread \n",
    "config={\"configurable\":{'thread_id':\"3\"}}\n",
    "\n",
    "for chunk in graph_builder.stream({'messages':\"Hii,My name is Namit And I Like Cricket\"},config,stream_mode=\"updates\"):\n",
    "    print (chunk)\n"
   ]
  },
  {
   "cell_type": "code",
   "execution_count": 40,
   "id": "1c207a1c",
   "metadata": {},
   "outputs": [
    {
     "name": "stdout",
     "output_type": "stream",
     "text": [
      "{'messages': [HumanMessage(content='Hii,My name is Namit And I Like Cricket', additional_kwargs={}, response_metadata={}, id='37344ae1-cbd7-403b-b77f-12d87fbbeb07'), AIMessage(content=\"Hi Namit! Nice to meet you! Cricket is a fantastic sport, isn't it? Which team do you support? Do you have a favorite player or a favorite match or series that you remember vividly?\", additional_kwargs={}, response_metadata={'token_usage': {'completion_tokens': 44, 'prompt_tokens': 22, 'total_tokens': 66, 'completion_time': 0.079172133, 'prompt_time': 0.021423037, 'queue_time': 0.150452732, 'total_time': 0.10059517}, 'model_name': 'llama3-8b-8192', 'system_fingerprint': 'fp_24ec19897b', 'finish_reason': 'stop', 'logprobs': None}, id='run--e5e01ecc-2277-4397-8be2-de6b3896ece7-0', usage_metadata={'input_tokens': 22, 'output_tokens': 44, 'total_tokens': 66}), HumanMessage(content='Hii,My name is Namit And I Like Cricket', additional_kwargs={}, response_metadata={}, id='b17f02b3-b683-4898-8954-15860cf1a6ae')]}\n",
      "{'messages': [HumanMessage(content='Hii,My name is Namit And I Like Cricket', additional_kwargs={}, response_metadata={}, id='37344ae1-cbd7-403b-b77f-12d87fbbeb07'), AIMessage(content=\"Hi Namit! Nice to meet you! Cricket is a fantastic sport, isn't it? Which team do you support? Do you have a favorite player or a favorite match or series that you remember vividly?\", additional_kwargs={}, response_metadata={'token_usage': {'completion_tokens': 44, 'prompt_tokens': 22, 'total_tokens': 66, 'completion_time': 0.079172133, 'prompt_time': 0.021423037, 'queue_time': 0.150452732, 'total_time': 0.10059517}, 'model_name': 'llama3-8b-8192', 'system_fingerprint': 'fp_24ec19897b', 'finish_reason': 'stop', 'logprobs': None}, id='run--e5e01ecc-2277-4397-8be2-de6b3896ece7-0', usage_metadata={'input_tokens': 22, 'output_tokens': 44, 'total_tokens': 66}), HumanMessage(content='Hii,My name is Namit And I Like Cricket', additional_kwargs={}, response_metadata={}, id='b17f02b3-b683-4898-8954-15860cf1a6ae'), AIMessage(content=\"Hi Namit! Nice to meet you! Cricket is a fantastic sport, isn't it? Which team do you support? Do you have a favorite player or a favorite match or series that you remember vividly?\", additional_kwargs={}, response_metadata={'token_usage': {'completion_tokens': 44, 'prompt_tokens': 87, 'total_tokens': 131, 'completion_time': 0.069035231, 'prompt_time': 0.011583289, 'queue_time': 0.044830851000000005, 'total_time': 0.08061852}, 'model_name': 'llama3-8b-8192', 'system_fingerprint': 'fp_24ec19897b', 'finish_reason': 'stop', 'logprobs': None}, id='run--885d3589-2a24-4e87-96b6-b74b8c6c15fe-0', usage_metadata={'input_tokens': 87, 'output_tokens': 44, 'total_tokens': 131})]}\n"
     ]
    }
   ],
   "source": [
    "for chunk in graph_builder.stream({'messages':\"Hii,My name is Namit And I Like Cricket\"},config,stream_mode=\"values\"):\n",
    "    print (chunk)"
   ]
  },
  {
   "cell_type": "code",
   "execution_count": 41,
   "id": "93913d55",
   "metadata": {},
   "outputs": [
    {
     "name": "stdout",
     "output_type": "stream",
     "text": [
      "{'Superbot': {'messages': [AIMessage(content=\"Hi Namit! Nice to meet you! Cricket is a wonderful sport, isn't it? Which team do you support? Are you a fan of the Indian national team or do you have a soft spot for a different team?\", additional_kwargs={}, response_metadata={'token_usage': {'completion_tokens': 47, 'prompt_tokens': 22, 'total_tokens': 69, 'completion_time': 0.121644983, 'prompt_time': 0.022121015, 'queue_time': 0.23518305400000003, 'total_time': 0.143765998}, 'model_name': 'llama3-8b-8192', 'system_fingerprint': 'fp_24ec19897b', 'finish_reason': 'stop', 'logprobs': None}, id='run--0d61242d-9855-4508-9b4b-6aaaceb88761-0', usage_metadata={'input_tokens': 22, 'output_tokens': 47, 'total_tokens': 69})]}}\n"
     ]
    }
   ],
   "source": [
    "## Create a thread \n",
    "config={\"configurable\":{'thread_id':\"4\"}}\n",
    "\n",
    "for chunk in graph_builder.stream({'messages':\"Hii,My name is Namit And I Like Cricket\"},config,stream_mode=\"updates\"):\n",
    "    print (chunk)"
   ]
  },
  {
   "cell_type": "code",
   "execution_count": 42,
   "id": "27e9f495",
   "metadata": {},
   "outputs": [
    {
     "name": "stdout",
     "output_type": "stream",
     "text": [
      "{'messages': [HumanMessage(content='Hii,My name is Namit And I Like Cricket', additional_kwargs={}, response_metadata={}, id='af5d563b-333b-444b-84f8-fe16fc7696a1'), AIMessage(content=\"Hi Namit! Nice to meet you! Cricket is a wonderful sport, isn't it? Which team do you support? Are you a fan of the Indian national team or do you have a soft spot for a different team?\", additional_kwargs={}, response_metadata={'token_usage': {'completion_tokens': 47, 'prompt_tokens': 22, 'total_tokens': 69, 'completion_time': 0.121644983, 'prompt_time': 0.022121015, 'queue_time': 0.23518305400000003, 'total_time': 0.143765998}, 'model_name': 'llama3-8b-8192', 'system_fingerprint': 'fp_24ec19897b', 'finish_reason': 'stop', 'logprobs': None}, id='run--0d61242d-9855-4508-9b4b-6aaaceb88761-0', usage_metadata={'input_tokens': 22, 'output_tokens': 47, 'total_tokens': 69}), HumanMessage(content='I also Like Football', additional_kwargs={}, response_metadata={}, id='adf87193-9b8f-4d7b-9b54-c5fa1d46bcd8')]}\n",
      "{'messages': [HumanMessage(content='Hii,My name is Namit And I Like Cricket', additional_kwargs={}, response_metadata={}, id='af5d563b-333b-444b-84f8-fe16fc7696a1'), AIMessage(content=\"Hi Namit! Nice to meet you! Cricket is a wonderful sport, isn't it? Which team do you support? Are you a fan of the Indian national team or do you have a soft spot for a different team?\", additional_kwargs={}, response_metadata={'token_usage': {'completion_tokens': 47, 'prompt_tokens': 22, 'total_tokens': 69, 'completion_time': 0.121644983, 'prompt_time': 0.022121015, 'queue_time': 0.23518305400000003, 'total_time': 0.143765998}, 'model_name': 'llama3-8b-8192', 'system_fingerprint': 'fp_24ec19897b', 'finish_reason': 'stop', 'logprobs': None}, id='run--0d61242d-9855-4508-9b4b-6aaaceb88761-0', usage_metadata={'input_tokens': 22, 'output_tokens': 47, 'total_tokens': 69}), HumanMessage(content='I also Like Football', additional_kwargs={}, response_metadata={}, id='adf87193-9b8f-4d7b-9b54-c5fa1d46bcd8'), AIMessage(content=\"A sports enthusiast! It's great that you enjoy both cricket and football! Which football team do you support? Are you a fan of the Indian Super League (ISL) or do you follow a team from the English Premier League, La Liga, or another league?\\n\\nAnd do you have a favorite player in either cricket or football?\", additional_kwargs={}, response_metadata={'token_usage': {'completion_tokens': 68, 'prompt_tokens': 82, 'total_tokens': 150, 'completion_time': 0.125311761, 'prompt_time': 0.04118036, 'queue_time': 0.09580569, 'total_time': 0.166492121}, 'model_name': 'llama3-8b-8192', 'system_fingerprint': 'fp_24ec19897b', 'finish_reason': 'stop', 'logprobs': None}, id='run--4776d22f-b548-46e0-9aa3-ae5d96ce6c91-0', usage_metadata={'input_tokens': 82, 'output_tokens': 68, 'total_tokens': 150})]}\n"
     ]
    }
   ],
   "source": [
    "for chunk in graph_builder.stream({'messages':\"I also Like Football\"},config,stream_mode=\"values\"):\n",
    "    print (chunk)"
   ]
  },
  {
   "cell_type": "code",
   "execution_count": 43,
   "id": "e2c72935",
   "metadata": {},
   "outputs": [
    {
     "name": "stdout",
     "output_type": "stream",
     "text": [
      "{'event': 'on_chain_start', 'data': {'input': {'messages': 'Hii,My name is Namit And I Like Cricket'}}, 'name': 'LangGraph', 'tags': [], 'run_id': 'ef028b0f-83ff-48f0-bc54-cedfa78c104d', 'metadata': {'thread_id': '5'}, 'parent_ids': []}\n",
      "{'event': 'on_chain_start', 'data': {'input': {'messages': [HumanMessage(content='Hii,My name is Namit And I Like Cricket', additional_kwargs={}, response_metadata={}, id='9fc09b98-986e-41e0-b93c-9d3528fac85b')]}}, 'name': 'Superbot', 'tags': ['graph:step:1'], 'run_id': '2202171c-a961-46d2-9e85-a701c7e49cbd', 'metadata': {'thread_id': '5', 'langgraph_step': 1, 'langgraph_node': 'Superbot', 'langgraph_triggers': ('branch:to:Superbot',), 'langgraph_path': ('__pregel_pull', 'Superbot'), 'langgraph_checkpoint_ns': 'Superbot:0aac9996-888f-b650-418e-1aec48515523'}, 'parent_ids': ['ef028b0f-83ff-48f0-bc54-cedfa78c104d']}\n",
      "{'event': 'on_chat_model_start', 'data': {'input': {'messages': [[HumanMessage(content='Hii,My name is Namit And I Like Cricket', additional_kwargs={}, response_metadata={}, id='9fc09b98-986e-41e0-b93c-9d3528fac85b')]]}}, 'name': 'ChatGroq', 'tags': ['seq:step:1'], 'run_id': '27ab15ca-1dff-405e-8183-a8c8836bc1a8', 'metadata': {'thread_id': '5', 'langgraph_step': 1, 'langgraph_node': 'Superbot', 'langgraph_triggers': ('branch:to:Superbot',), 'langgraph_path': ('__pregel_pull', 'Superbot'), 'langgraph_checkpoint_ns': 'Superbot:0aac9996-888f-b650-418e-1aec48515523', 'checkpoint_ns': 'Superbot:0aac9996-888f-b650-418e-1aec48515523', 'ls_provider': 'groq', 'ls_model_name': 'llama3-8b-8192', 'ls_model_type': 'chat', 'ls_temperature': 0.7}, 'parent_ids': ['ef028b0f-83ff-48f0-bc54-cedfa78c104d', '2202171c-a961-46d2-9e85-a701c7e49cbd']}\n",
      "{'event': 'on_chat_model_stream', 'data': {'chunk': AIMessageChunk(content='', additional_kwargs={}, response_metadata={}, id='run--27ab15ca-1dff-405e-8183-a8c8836bc1a8')}, 'run_id': '27ab15ca-1dff-405e-8183-a8c8836bc1a8', 'name': 'ChatGroq', 'tags': ['seq:step:1'], 'metadata': {'thread_id': '5', 'langgraph_step': 1, 'langgraph_node': 'Superbot', 'langgraph_triggers': ('branch:to:Superbot',), 'langgraph_path': ('__pregel_pull', 'Superbot'), 'langgraph_checkpoint_ns': 'Superbot:0aac9996-888f-b650-418e-1aec48515523', 'checkpoint_ns': 'Superbot:0aac9996-888f-b650-418e-1aec48515523', 'ls_provider': 'groq', 'ls_model_name': 'llama3-8b-8192', 'ls_model_type': 'chat', 'ls_temperature': 0.7}, 'parent_ids': ['ef028b0f-83ff-48f0-bc54-cedfa78c104d', '2202171c-a961-46d2-9e85-a701c7e49cbd']}\n",
      "{'event': 'on_chat_model_stream', 'data': {'chunk': AIMessageChunk(content='Hello', additional_kwargs={}, response_metadata={}, id='run--27ab15ca-1dff-405e-8183-a8c8836bc1a8')}, 'run_id': '27ab15ca-1dff-405e-8183-a8c8836bc1a8', 'name': 'ChatGroq', 'tags': ['seq:step:1'], 'metadata': {'thread_id': '5', 'langgraph_step': 1, 'langgraph_node': 'Superbot', 'langgraph_triggers': ('branch:to:Superbot',), 'langgraph_path': ('__pregel_pull', 'Superbot'), 'langgraph_checkpoint_ns': 'Superbot:0aac9996-888f-b650-418e-1aec48515523', 'checkpoint_ns': 'Superbot:0aac9996-888f-b650-418e-1aec48515523', 'ls_provider': 'groq', 'ls_model_name': 'llama3-8b-8192', 'ls_model_type': 'chat', 'ls_temperature': 0.7}, 'parent_ids': ['ef028b0f-83ff-48f0-bc54-cedfa78c104d', '2202171c-a961-46d2-9e85-a701c7e49cbd']}\n",
      "{'event': 'on_chat_model_stream', 'data': {'chunk': AIMessageChunk(content=' Nam', additional_kwargs={}, response_metadata={}, id='run--27ab15ca-1dff-405e-8183-a8c8836bc1a8')}, 'run_id': '27ab15ca-1dff-405e-8183-a8c8836bc1a8', 'name': 'ChatGroq', 'tags': ['seq:step:1'], 'metadata': {'thread_id': '5', 'langgraph_step': 1, 'langgraph_node': 'Superbot', 'langgraph_triggers': ('branch:to:Superbot',), 'langgraph_path': ('__pregel_pull', 'Superbot'), 'langgraph_checkpoint_ns': 'Superbot:0aac9996-888f-b650-418e-1aec48515523', 'checkpoint_ns': 'Superbot:0aac9996-888f-b650-418e-1aec48515523', 'ls_provider': 'groq', 'ls_model_name': 'llama3-8b-8192', 'ls_model_type': 'chat', 'ls_temperature': 0.7}, 'parent_ids': ['ef028b0f-83ff-48f0-bc54-cedfa78c104d', '2202171c-a961-46d2-9e85-a701c7e49cbd']}\n",
      "{'event': 'on_chat_model_stream', 'data': {'chunk': AIMessageChunk(content='it', additional_kwargs={}, response_metadata={}, id='run--27ab15ca-1dff-405e-8183-a8c8836bc1a8')}, 'run_id': '27ab15ca-1dff-405e-8183-a8c8836bc1a8', 'name': 'ChatGroq', 'tags': ['seq:step:1'], 'metadata': {'thread_id': '5', 'langgraph_step': 1, 'langgraph_node': 'Superbot', 'langgraph_triggers': ('branch:to:Superbot',), 'langgraph_path': ('__pregel_pull', 'Superbot'), 'langgraph_checkpoint_ns': 'Superbot:0aac9996-888f-b650-418e-1aec48515523', 'checkpoint_ns': 'Superbot:0aac9996-888f-b650-418e-1aec48515523', 'ls_provider': 'groq', 'ls_model_name': 'llama3-8b-8192', 'ls_model_type': 'chat', 'ls_temperature': 0.7}, 'parent_ids': ['ef028b0f-83ff-48f0-bc54-cedfa78c104d', '2202171c-a961-46d2-9e85-a701c7e49cbd']}\n",
      "{'event': 'on_chat_model_stream', 'data': {'chunk': AIMessageChunk(content='!', additional_kwargs={}, response_metadata={}, id='run--27ab15ca-1dff-405e-8183-a8c8836bc1a8')}, 'run_id': '27ab15ca-1dff-405e-8183-a8c8836bc1a8', 'name': 'ChatGroq', 'tags': ['seq:step:1'], 'metadata': {'thread_id': '5', 'langgraph_step': 1, 'langgraph_node': 'Superbot', 'langgraph_triggers': ('branch:to:Superbot',), 'langgraph_path': ('__pregel_pull', 'Superbot'), 'langgraph_checkpoint_ns': 'Superbot:0aac9996-888f-b650-418e-1aec48515523', 'checkpoint_ns': 'Superbot:0aac9996-888f-b650-418e-1aec48515523', 'ls_provider': 'groq', 'ls_model_name': 'llama3-8b-8192', 'ls_model_type': 'chat', 'ls_temperature': 0.7}, 'parent_ids': ['ef028b0f-83ff-48f0-bc54-cedfa78c104d', '2202171c-a961-46d2-9e85-a701c7e49cbd']}\n",
      "{'event': 'on_chat_model_stream', 'data': {'chunk': AIMessageChunk(content=' Nice', additional_kwargs={}, response_metadata={}, id='run--27ab15ca-1dff-405e-8183-a8c8836bc1a8')}, 'run_id': '27ab15ca-1dff-405e-8183-a8c8836bc1a8', 'name': 'ChatGroq', 'tags': ['seq:step:1'], 'metadata': {'thread_id': '5', 'langgraph_step': 1, 'langgraph_node': 'Superbot', 'langgraph_triggers': ('branch:to:Superbot',), 'langgraph_path': ('__pregel_pull', 'Superbot'), 'langgraph_checkpoint_ns': 'Superbot:0aac9996-888f-b650-418e-1aec48515523', 'checkpoint_ns': 'Superbot:0aac9996-888f-b650-418e-1aec48515523', 'ls_provider': 'groq', 'ls_model_name': 'llama3-8b-8192', 'ls_model_type': 'chat', 'ls_temperature': 0.7}, 'parent_ids': ['ef028b0f-83ff-48f0-bc54-cedfa78c104d', '2202171c-a961-46d2-9e85-a701c7e49cbd']}\n",
      "{'event': 'on_chat_model_stream', 'data': {'chunk': AIMessageChunk(content=' to', additional_kwargs={}, response_metadata={}, id='run--27ab15ca-1dff-405e-8183-a8c8836bc1a8')}, 'run_id': '27ab15ca-1dff-405e-8183-a8c8836bc1a8', 'name': 'ChatGroq', 'tags': ['seq:step:1'], 'metadata': {'thread_id': '5', 'langgraph_step': 1, 'langgraph_node': 'Superbot', 'langgraph_triggers': ('branch:to:Superbot',), 'langgraph_path': ('__pregel_pull', 'Superbot'), 'langgraph_checkpoint_ns': 'Superbot:0aac9996-888f-b650-418e-1aec48515523', 'checkpoint_ns': 'Superbot:0aac9996-888f-b650-418e-1aec48515523', 'ls_provider': 'groq', 'ls_model_name': 'llama3-8b-8192', 'ls_model_type': 'chat', 'ls_temperature': 0.7}, 'parent_ids': ['ef028b0f-83ff-48f0-bc54-cedfa78c104d', '2202171c-a961-46d2-9e85-a701c7e49cbd']}\n",
      "{'event': 'on_chat_model_stream', 'data': {'chunk': AIMessageChunk(content=' meet', additional_kwargs={}, response_metadata={}, id='run--27ab15ca-1dff-405e-8183-a8c8836bc1a8')}, 'run_id': '27ab15ca-1dff-405e-8183-a8c8836bc1a8', 'name': 'ChatGroq', 'tags': ['seq:step:1'], 'metadata': {'thread_id': '5', 'langgraph_step': 1, 'langgraph_node': 'Superbot', 'langgraph_triggers': ('branch:to:Superbot',), 'langgraph_path': ('__pregel_pull', 'Superbot'), 'langgraph_checkpoint_ns': 'Superbot:0aac9996-888f-b650-418e-1aec48515523', 'checkpoint_ns': 'Superbot:0aac9996-888f-b650-418e-1aec48515523', 'ls_provider': 'groq', 'ls_model_name': 'llama3-8b-8192', 'ls_model_type': 'chat', 'ls_temperature': 0.7}, 'parent_ids': ['ef028b0f-83ff-48f0-bc54-cedfa78c104d', '2202171c-a961-46d2-9e85-a701c7e49cbd']}\n",
      "{'event': 'on_chat_model_stream', 'data': {'chunk': AIMessageChunk(content=' you', additional_kwargs={}, response_metadata={}, id='run--27ab15ca-1dff-405e-8183-a8c8836bc1a8')}, 'run_id': '27ab15ca-1dff-405e-8183-a8c8836bc1a8', 'name': 'ChatGroq', 'tags': ['seq:step:1'], 'metadata': {'thread_id': '5', 'langgraph_step': 1, 'langgraph_node': 'Superbot', 'langgraph_triggers': ('branch:to:Superbot',), 'langgraph_path': ('__pregel_pull', 'Superbot'), 'langgraph_checkpoint_ns': 'Superbot:0aac9996-888f-b650-418e-1aec48515523', 'checkpoint_ns': 'Superbot:0aac9996-888f-b650-418e-1aec48515523', 'ls_provider': 'groq', 'ls_model_name': 'llama3-8b-8192', 'ls_model_type': 'chat', 'ls_temperature': 0.7}, 'parent_ids': ['ef028b0f-83ff-48f0-bc54-cedfa78c104d', '2202171c-a961-46d2-9e85-a701c7e49cbd']}\n",
      "{'event': 'on_chat_model_stream', 'data': {'chunk': AIMessageChunk(content='!', additional_kwargs={}, response_metadata={}, id='run--27ab15ca-1dff-405e-8183-a8c8836bc1a8')}, 'run_id': '27ab15ca-1dff-405e-8183-a8c8836bc1a8', 'name': 'ChatGroq', 'tags': ['seq:step:1'], 'metadata': {'thread_id': '5', 'langgraph_step': 1, 'langgraph_node': 'Superbot', 'langgraph_triggers': ('branch:to:Superbot',), 'langgraph_path': ('__pregel_pull', 'Superbot'), 'langgraph_checkpoint_ns': 'Superbot:0aac9996-888f-b650-418e-1aec48515523', 'checkpoint_ns': 'Superbot:0aac9996-888f-b650-418e-1aec48515523', 'ls_provider': 'groq', 'ls_model_name': 'llama3-8b-8192', 'ls_model_type': 'chat', 'ls_temperature': 0.7}, 'parent_ids': ['ef028b0f-83ff-48f0-bc54-cedfa78c104d', '2202171c-a961-46d2-9e85-a701c7e49cbd']}\n",
      "{'event': 'on_chat_model_stream', 'data': {'chunk': AIMessageChunk(content=' Cricket', additional_kwargs={}, response_metadata={}, id='run--27ab15ca-1dff-405e-8183-a8c8836bc1a8')}, 'run_id': '27ab15ca-1dff-405e-8183-a8c8836bc1a8', 'name': 'ChatGroq', 'tags': ['seq:step:1'], 'metadata': {'thread_id': '5', 'langgraph_step': 1, 'langgraph_node': 'Superbot', 'langgraph_triggers': ('branch:to:Superbot',), 'langgraph_path': ('__pregel_pull', 'Superbot'), 'langgraph_checkpoint_ns': 'Superbot:0aac9996-888f-b650-418e-1aec48515523', 'checkpoint_ns': 'Superbot:0aac9996-888f-b650-418e-1aec48515523', 'ls_provider': 'groq', 'ls_model_name': 'llama3-8b-8192', 'ls_model_type': 'chat', 'ls_temperature': 0.7}, 'parent_ids': ['ef028b0f-83ff-48f0-bc54-cedfa78c104d', '2202171c-a961-46d2-9e85-a701c7e49cbd']}\n",
      "{'event': 'on_chat_model_stream', 'data': {'chunk': AIMessageChunk(content=' is', additional_kwargs={}, response_metadata={}, id='run--27ab15ca-1dff-405e-8183-a8c8836bc1a8')}, 'run_id': '27ab15ca-1dff-405e-8183-a8c8836bc1a8', 'name': 'ChatGroq', 'tags': ['seq:step:1'], 'metadata': {'thread_id': '5', 'langgraph_step': 1, 'langgraph_node': 'Superbot', 'langgraph_triggers': ('branch:to:Superbot',), 'langgraph_path': ('__pregel_pull', 'Superbot'), 'langgraph_checkpoint_ns': 'Superbot:0aac9996-888f-b650-418e-1aec48515523', 'checkpoint_ns': 'Superbot:0aac9996-888f-b650-418e-1aec48515523', 'ls_provider': 'groq', 'ls_model_name': 'llama3-8b-8192', 'ls_model_type': 'chat', 'ls_temperature': 0.7}, 'parent_ids': ['ef028b0f-83ff-48f0-bc54-cedfa78c104d', '2202171c-a961-46d2-9e85-a701c7e49cbd']}\n",
      "{'event': 'on_chat_model_stream', 'data': {'chunk': AIMessageChunk(content=' a', additional_kwargs={}, response_metadata={}, id='run--27ab15ca-1dff-405e-8183-a8c8836bc1a8')}, 'run_id': '27ab15ca-1dff-405e-8183-a8c8836bc1a8', 'name': 'ChatGroq', 'tags': ['seq:step:1'], 'metadata': {'thread_id': '5', 'langgraph_step': 1, 'langgraph_node': 'Superbot', 'langgraph_triggers': ('branch:to:Superbot',), 'langgraph_path': ('__pregel_pull', 'Superbot'), 'langgraph_checkpoint_ns': 'Superbot:0aac9996-888f-b650-418e-1aec48515523', 'checkpoint_ns': 'Superbot:0aac9996-888f-b650-418e-1aec48515523', 'ls_provider': 'groq', 'ls_model_name': 'llama3-8b-8192', 'ls_model_type': 'chat', 'ls_temperature': 0.7}, 'parent_ids': ['ef028b0f-83ff-48f0-bc54-cedfa78c104d', '2202171c-a961-46d2-9e85-a701c7e49cbd']}\n",
      "{'event': 'on_chat_model_stream', 'data': {'chunk': AIMessageChunk(content=' great', additional_kwargs={}, response_metadata={}, id='run--27ab15ca-1dff-405e-8183-a8c8836bc1a8')}, 'run_id': '27ab15ca-1dff-405e-8183-a8c8836bc1a8', 'name': 'ChatGroq', 'tags': ['seq:step:1'], 'metadata': {'thread_id': '5', 'langgraph_step': 1, 'langgraph_node': 'Superbot', 'langgraph_triggers': ('branch:to:Superbot',), 'langgraph_path': ('__pregel_pull', 'Superbot'), 'langgraph_checkpoint_ns': 'Superbot:0aac9996-888f-b650-418e-1aec48515523', 'checkpoint_ns': 'Superbot:0aac9996-888f-b650-418e-1aec48515523', 'ls_provider': 'groq', 'ls_model_name': 'llama3-8b-8192', 'ls_model_type': 'chat', 'ls_temperature': 0.7}, 'parent_ids': ['ef028b0f-83ff-48f0-bc54-cedfa78c104d', '2202171c-a961-46d2-9e85-a701c7e49cbd']}\n",
      "{'event': 'on_chat_model_stream', 'data': {'chunk': AIMessageChunk(content=' sport', additional_kwargs={}, response_metadata={}, id='run--27ab15ca-1dff-405e-8183-a8c8836bc1a8')}, 'run_id': '27ab15ca-1dff-405e-8183-a8c8836bc1a8', 'name': 'ChatGroq', 'tags': ['seq:step:1'], 'metadata': {'thread_id': '5', 'langgraph_step': 1, 'langgraph_node': 'Superbot', 'langgraph_triggers': ('branch:to:Superbot',), 'langgraph_path': ('__pregel_pull', 'Superbot'), 'langgraph_checkpoint_ns': 'Superbot:0aac9996-888f-b650-418e-1aec48515523', 'checkpoint_ns': 'Superbot:0aac9996-888f-b650-418e-1aec48515523', 'ls_provider': 'groq', 'ls_model_name': 'llama3-8b-8192', 'ls_model_type': 'chat', 'ls_temperature': 0.7}, 'parent_ids': ['ef028b0f-83ff-48f0-bc54-cedfa78c104d', '2202171c-a961-46d2-9e85-a701c7e49cbd']}\n",
      "{'event': 'on_chat_model_stream', 'data': {'chunk': AIMessageChunk(content=',', additional_kwargs={}, response_metadata={}, id='run--27ab15ca-1dff-405e-8183-a8c8836bc1a8')}, 'run_id': '27ab15ca-1dff-405e-8183-a8c8836bc1a8', 'name': 'ChatGroq', 'tags': ['seq:step:1'], 'metadata': {'thread_id': '5', 'langgraph_step': 1, 'langgraph_node': 'Superbot', 'langgraph_triggers': ('branch:to:Superbot',), 'langgraph_path': ('__pregel_pull', 'Superbot'), 'langgraph_checkpoint_ns': 'Superbot:0aac9996-888f-b650-418e-1aec48515523', 'checkpoint_ns': 'Superbot:0aac9996-888f-b650-418e-1aec48515523', 'ls_provider': 'groq', 'ls_model_name': 'llama3-8b-8192', 'ls_model_type': 'chat', 'ls_temperature': 0.7}, 'parent_ids': ['ef028b0f-83ff-48f0-bc54-cedfa78c104d', '2202171c-a961-46d2-9e85-a701c7e49cbd']}\n",
      "{'event': 'on_chat_model_stream', 'data': {'chunk': AIMessageChunk(content=' isn', additional_kwargs={}, response_metadata={}, id='run--27ab15ca-1dff-405e-8183-a8c8836bc1a8')}, 'run_id': '27ab15ca-1dff-405e-8183-a8c8836bc1a8', 'name': 'ChatGroq', 'tags': ['seq:step:1'], 'metadata': {'thread_id': '5', 'langgraph_step': 1, 'langgraph_node': 'Superbot', 'langgraph_triggers': ('branch:to:Superbot',), 'langgraph_path': ('__pregel_pull', 'Superbot'), 'langgraph_checkpoint_ns': 'Superbot:0aac9996-888f-b650-418e-1aec48515523', 'checkpoint_ns': 'Superbot:0aac9996-888f-b650-418e-1aec48515523', 'ls_provider': 'groq', 'ls_model_name': 'llama3-8b-8192', 'ls_model_type': 'chat', 'ls_temperature': 0.7}, 'parent_ids': ['ef028b0f-83ff-48f0-bc54-cedfa78c104d', '2202171c-a961-46d2-9e85-a701c7e49cbd']}\n",
      "{'event': 'on_chat_model_stream', 'data': {'chunk': AIMessageChunk(content=\"'t\", additional_kwargs={}, response_metadata={}, id='run--27ab15ca-1dff-405e-8183-a8c8836bc1a8')}, 'run_id': '27ab15ca-1dff-405e-8183-a8c8836bc1a8', 'name': 'ChatGroq', 'tags': ['seq:step:1'], 'metadata': {'thread_id': '5', 'langgraph_step': 1, 'langgraph_node': 'Superbot', 'langgraph_triggers': ('branch:to:Superbot',), 'langgraph_path': ('__pregel_pull', 'Superbot'), 'langgraph_checkpoint_ns': 'Superbot:0aac9996-888f-b650-418e-1aec48515523', 'checkpoint_ns': 'Superbot:0aac9996-888f-b650-418e-1aec48515523', 'ls_provider': 'groq', 'ls_model_name': 'llama3-8b-8192', 'ls_model_type': 'chat', 'ls_temperature': 0.7}, 'parent_ids': ['ef028b0f-83ff-48f0-bc54-cedfa78c104d', '2202171c-a961-46d2-9e85-a701c7e49cbd']}\n",
      "{'event': 'on_chat_model_stream', 'data': {'chunk': AIMessageChunk(content=' it', additional_kwargs={}, response_metadata={}, id='run--27ab15ca-1dff-405e-8183-a8c8836bc1a8')}, 'run_id': '27ab15ca-1dff-405e-8183-a8c8836bc1a8', 'name': 'ChatGroq', 'tags': ['seq:step:1'], 'metadata': {'thread_id': '5', 'langgraph_step': 1, 'langgraph_node': 'Superbot', 'langgraph_triggers': ('branch:to:Superbot',), 'langgraph_path': ('__pregel_pull', 'Superbot'), 'langgraph_checkpoint_ns': 'Superbot:0aac9996-888f-b650-418e-1aec48515523', 'checkpoint_ns': 'Superbot:0aac9996-888f-b650-418e-1aec48515523', 'ls_provider': 'groq', 'ls_model_name': 'llama3-8b-8192', 'ls_model_type': 'chat', 'ls_temperature': 0.7}, 'parent_ids': ['ef028b0f-83ff-48f0-bc54-cedfa78c104d', '2202171c-a961-46d2-9e85-a701c7e49cbd']}\n",
      "{'event': 'on_chat_model_stream', 'data': {'chunk': AIMessageChunk(content='?', additional_kwargs={}, response_metadata={}, id='run--27ab15ca-1dff-405e-8183-a8c8836bc1a8')}, 'run_id': '27ab15ca-1dff-405e-8183-a8c8836bc1a8', 'name': 'ChatGroq', 'tags': ['seq:step:1'], 'metadata': {'thread_id': '5', 'langgraph_step': 1, 'langgraph_node': 'Superbot', 'langgraph_triggers': ('branch:to:Superbot',), 'langgraph_path': ('__pregel_pull', 'Superbot'), 'langgraph_checkpoint_ns': 'Superbot:0aac9996-888f-b650-418e-1aec48515523', 'checkpoint_ns': 'Superbot:0aac9996-888f-b650-418e-1aec48515523', 'ls_provider': 'groq', 'ls_model_name': 'llama3-8b-8192', 'ls_model_type': 'chat', 'ls_temperature': 0.7}, 'parent_ids': ['ef028b0f-83ff-48f0-bc54-cedfa78c104d', '2202171c-a961-46d2-9e85-a701c7e49cbd']}\n",
      "{'event': 'on_chat_model_stream', 'data': {'chunk': AIMessageChunk(content=' Do', additional_kwargs={}, response_metadata={}, id='run--27ab15ca-1dff-405e-8183-a8c8836bc1a8')}, 'run_id': '27ab15ca-1dff-405e-8183-a8c8836bc1a8', 'name': 'ChatGroq', 'tags': ['seq:step:1'], 'metadata': {'thread_id': '5', 'langgraph_step': 1, 'langgraph_node': 'Superbot', 'langgraph_triggers': ('branch:to:Superbot',), 'langgraph_path': ('__pregel_pull', 'Superbot'), 'langgraph_checkpoint_ns': 'Superbot:0aac9996-888f-b650-418e-1aec48515523', 'checkpoint_ns': 'Superbot:0aac9996-888f-b650-418e-1aec48515523', 'ls_provider': 'groq', 'ls_model_name': 'llama3-8b-8192', 'ls_model_type': 'chat', 'ls_temperature': 0.7}, 'parent_ids': ['ef028b0f-83ff-48f0-bc54-cedfa78c104d', '2202171c-a961-46d2-9e85-a701c7e49cbd']}\n",
      "{'event': 'on_chat_model_stream', 'data': {'chunk': AIMessageChunk(content=' you', additional_kwargs={}, response_metadata={}, id='run--27ab15ca-1dff-405e-8183-a8c8836bc1a8')}, 'run_id': '27ab15ca-1dff-405e-8183-a8c8836bc1a8', 'name': 'ChatGroq', 'tags': ['seq:step:1'], 'metadata': {'thread_id': '5', 'langgraph_step': 1, 'langgraph_node': 'Superbot', 'langgraph_triggers': ('branch:to:Superbot',), 'langgraph_path': ('__pregel_pull', 'Superbot'), 'langgraph_checkpoint_ns': 'Superbot:0aac9996-888f-b650-418e-1aec48515523', 'checkpoint_ns': 'Superbot:0aac9996-888f-b650-418e-1aec48515523', 'ls_provider': 'groq', 'ls_model_name': 'llama3-8b-8192', 'ls_model_type': 'chat', 'ls_temperature': 0.7}, 'parent_ids': ['ef028b0f-83ff-48f0-bc54-cedfa78c104d', '2202171c-a961-46d2-9e85-a701c7e49cbd']}\n",
      "{'event': 'on_chat_model_stream', 'data': {'chunk': AIMessageChunk(content=' have', additional_kwargs={}, response_metadata={}, id='run--27ab15ca-1dff-405e-8183-a8c8836bc1a8')}, 'run_id': '27ab15ca-1dff-405e-8183-a8c8836bc1a8', 'name': 'ChatGroq', 'tags': ['seq:step:1'], 'metadata': {'thread_id': '5', 'langgraph_step': 1, 'langgraph_node': 'Superbot', 'langgraph_triggers': ('branch:to:Superbot',), 'langgraph_path': ('__pregel_pull', 'Superbot'), 'langgraph_checkpoint_ns': 'Superbot:0aac9996-888f-b650-418e-1aec48515523', 'checkpoint_ns': 'Superbot:0aac9996-888f-b650-418e-1aec48515523', 'ls_provider': 'groq', 'ls_model_name': 'llama3-8b-8192', 'ls_model_type': 'chat', 'ls_temperature': 0.7}, 'parent_ids': ['ef028b0f-83ff-48f0-bc54-cedfa78c104d', '2202171c-a961-46d2-9e85-a701c7e49cbd']}\n",
      "{'event': 'on_chat_model_stream', 'data': {'chunk': AIMessageChunk(content=' a', additional_kwargs={}, response_metadata={}, id='run--27ab15ca-1dff-405e-8183-a8c8836bc1a8')}, 'run_id': '27ab15ca-1dff-405e-8183-a8c8836bc1a8', 'name': 'ChatGroq', 'tags': ['seq:step:1'], 'metadata': {'thread_id': '5', 'langgraph_step': 1, 'langgraph_node': 'Superbot', 'langgraph_triggers': ('branch:to:Superbot',), 'langgraph_path': ('__pregel_pull', 'Superbot'), 'langgraph_checkpoint_ns': 'Superbot:0aac9996-888f-b650-418e-1aec48515523', 'checkpoint_ns': 'Superbot:0aac9996-888f-b650-418e-1aec48515523', 'ls_provider': 'groq', 'ls_model_name': 'llama3-8b-8192', 'ls_model_type': 'chat', 'ls_temperature': 0.7}, 'parent_ids': ['ef028b0f-83ff-48f0-bc54-cedfa78c104d', '2202171c-a961-46d2-9e85-a701c7e49cbd']}\n",
      "{'event': 'on_chat_model_stream', 'data': {'chunk': AIMessageChunk(content=' favorite', additional_kwargs={}, response_metadata={}, id='run--27ab15ca-1dff-405e-8183-a8c8836bc1a8')}, 'run_id': '27ab15ca-1dff-405e-8183-a8c8836bc1a8', 'name': 'ChatGroq', 'tags': ['seq:step:1'], 'metadata': {'thread_id': '5', 'langgraph_step': 1, 'langgraph_node': 'Superbot', 'langgraph_triggers': ('branch:to:Superbot',), 'langgraph_path': ('__pregel_pull', 'Superbot'), 'langgraph_checkpoint_ns': 'Superbot:0aac9996-888f-b650-418e-1aec48515523', 'checkpoint_ns': 'Superbot:0aac9996-888f-b650-418e-1aec48515523', 'ls_provider': 'groq', 'ls_model_name': 'llama3-8b-8192', 'ls_model_type': 'chat', 'ls_temperature': 0.7}, 'parent_ids': ['ef028b0f-83ff-48f0-bc54-cedfa78c104d', '2202171c-a961-46d2-9e85-a701c7e49cbd']}\n",
      "{'event': 'on_chat_model_stream', 'data': {'chunk': AIMessageChunk(content=' team', additional_kwargs={}, response_metadata={}, id='run--27ab15ca-1dff-405e-8183-a8c8836bc1a8')}, 'run_id': '27ab15ca-1dff-405e-8183-a8c8836bc1a8', 'name': 'ChatGroq', 'tags': ['seq:step:1'], 'metadata': {'thread_id': '5', 'langgraph_step': 1, 'langgraph_node': 'Superbot', 'langgraph_triggers': ('branch:to:Superbot',), 'langgraph_path': ('__pregel_pull', 'Superbot'), 'langgraph_checkpoint_ns': 'Superbot:0aac9996-888f-b650-418e-1aec48515523', 'checkpoint_ns': 'Superbot:0aac9996-888f-b650-418e-1aec48515523', 'ls_provider': 'groq', 'ls_model_name': 'llama3-8b-8192', 'ls_model_type': 'chat', 'ls_temperature': 0.7}, 'parent_ids': ['ef028b0f-83ff-48f0-bc54-cedfa78c104d', '2202171c-a961-46d2-9e85-a701c7e49cbd']}\n",
      "{'event': 'on_chat_model_stream', 'data': {'chunk': AIMessageChunk(content=' or', additional_kwargs={}, response_metadata={}, id='run--27ab15ca-1dff-405e-8183-a8c8836bc1a8')}, 'run_id': '27ab15ca-1dff-405e-8183-a8c8836bc1a8', 'name': 'ChatGroq', 'tags': ['seq:step:1'], 'metadata': {'thread_id': '5', 'langgraph_step': 1, 'langgraph_node': 'Superbot', 'langgraph_triggers': ('branch:to:Superbot',), 'langgraph_path': ('__pregel_pull', 'Superbot'), 'langgraph_checkpoint_ns': 'Superbot:0aac9996-888f-b650-418e-1aec48515523', 'checkpoint_ns': 'Superbot:0aac9996-888f-b650-418e-1aec48515523', 'ls_provider': 'groq', 'ls_model_name': 'llama3-8b-8192', 'ls_model_type': 'chat', 'ls_temperature': 0.7}, 'parent_ids': ['ef028b0f-83ff-48f0-bc54-cedfa78c104d', '2202171c-a961-46d2-9e85-a701c7e49cbd']}\n",
      "{'event': 'on_chat_model_stream', 'data': {'chunk': AIMessageChunk(content=' player', additional_kwargs={}, response_metadata={}, id='run--27ab15ca-1dff-405e-8183-a8c8836bc1a8')}, 'run_id': '27ab15ca-1dff-405e-8183-a8c8836bc1a8', 'name': 'ChatGroq', 'tags': ['seq:step:1'], 'metadata': {'thread_id': '5', 'langgraph_step': 1, 'langgraph_node': 'Superbot', 'langgraph_triggers': ('branch:to:Superbot',), 'langgraph_path': ('__pregel_pull', 'Superbot'), 'langgraph_checkpoint_ns': 'Superbot:0aac9996-888f-b650-418e-1aec48515523', 'checkpoint_ns': 'Superbot:0aac9996-888f-b650-418e-1aec48515523', 'ls_provider': 'groq', 'ls_model_name': 'llama3-8b-8192', 'ls_model_type': 'chat', 'ls_temperature': 0.7}, 'parent_ids': ['ef028b0f-83ff-48f0-bc54-cedfa78c104d', '2202171c-a961-46d2-9e85-a701c7e49cbd']}\n",
      "{'event': 'on_chat_model_stream', 'data': {'chunk': AIMessageChunk(content='?', additional_kwargs={}, response_metadata={}, id='run--27ab15ca-1dff-405e-8183-a8c8836bc1a8')}, 'run_id': '27ab15ca-1dff-405e-8183-a8c8836bc1a8', 'name': 'ChatGroq', 'tags': ['seq:step:1'], 'metadata': {'thread_id': '5', 'langgraph_step': 1, 'langgraph_node': 'Superbot', 'langgraph_triggers': ('branch:to:Superbot',), 'langgraph_path': ('__pregel_pull', 'Superbot'), 'langgraph_checkpoint_ns': 'Superbot:0aac9996-888f-b650-418e-1aec48515523', 'checkpoint_ns': 'Superbot:0aac9996-888f-b650-418e-1aec48515523', 'ls_provider': 'groq', 'ls_model_name': 'llama3-8b-8192', 'ls_model_type': 'chat', 'ls_temperature': 0.7}, 'parent_ids': ['ef028b0f-83ff-48f0-bc54-cedfa78c104d', '2202171c-a961-46d2-9e85-a701c7e49cbd']}\n",
      "{'event': 'on_chat_model_stream', 'data': {'chunk': AIMessageChunk(content='', additional_kwargs={}, response_metadata={'finish_reason': 'stop', 'model_name': 'llama3-8b-8192', 'system_fingerprint': 'fp_24ec19897b'}, id='run--27ab15ca-1dff-405e-8183-a8c8836bc1a8', usage_metadata={'input_tokens': 22, 'output_tokens': 29, 'total_tokens': 51})}, 'run_id': '27ab15ca-1dff-405e-8183-a8c8836bc1a8', 'name': 'ChatGroq', 'tags': ['seq:step:1'], 'metadata': {'thread_id': '5', 'langgraph_step': 1, 'langgraph_node': 'Superbot', 'langgraph_triggers': ('branch:to:Superbot',), 'langgraph_path': ('__pregel_pull', 'Superbot'), 'langgraph_checkpoint_ns': 'Superbot:0aac9996-888f-b650-418e-1aec48515523', 'checkpoint_ns': 'Superbot:0aac9996-888f-b650-418e-1aec48515523', 'ls_provider': 'groq', 'ls_model_name': 'llama3-8b-8192', 'ls_model_type': 'chat', 'ls_temperature': 0.7}, 'parent_ids': ['ef028b0f-83ff-48f0-bc54-cedfa78c104d', '2202171c-a961-46d2-9e85-a701c7e49cbd']}\n",
      "{'event': 'on_chat_model_end', 'data': {'output': AIMessage(content=\"Hello Namit! Nice to meet you! Cricket is a great sport, isn't it? Do you have a favorite team or player?\", additional_kwargs={}, response_metadata={'finish_reason': 'stop', 'model_name': 'llama3-8b-8192', 'system_fingerprint': 'fp_24ec19897b'}, id='run--27ab15ca-1dff-405e-8183-a8c8836bc1a8', usage_metadata={'input_tokens': 22, 'output_tokens': 29, 'total_tokens': 51}), 'input': {'messages': [[HumanMessage(content='Hii,My name is Namit And I Like Cricket', additional_kwargs={}, response_metadata={}, id='9fc09b98-986e-41e0-b93c-9d3528fac85b')]]}}, 'run_id': '27ab15ca-1dff-405e-8183-a8c8836bc1a8', 'name': 'ChatGroq', 'tags': ['seq:step:1'], 'metadata': {'thread_id': '5', 'langgraph_step': 1, 'langgraph_node': 'Superbot', 'langgraph_triggers': ('branch:to:Superbot',), 'langgraph_path': ('__pregel_pull', 'Superbot'), 'langgraph_checkpoint_ns': 'Superbot:0aac9996-888f-b650-418e-1aec48515523', 'checkpoint_ns': 'Superbot:0aac9996-888f-b650-418e-1aec48515523', 'ls_provider': 'groq', 'ls_model_name': 'llama3-8b-8192', 'ls_model_type': 'chat', 'ls_temperature': 0.7}, 'parent_ids': ['ef028b0f-83ff-48f0-bc54-cedfa78c104d', '2202171c-a961-46d2-9e85-a701c7e49cbd']}\n",
      "{'event': 'on_chain_stream', 'run_id': '2202171c-a961-46d2-9e85-a701c7e49cbd', 'name': 'Superbot', 'tags': ['graph:step:1'], 'metadata': {'thread_id': '5', 'langgraph_step': 1, 'langgraph_node': 'Superbot', 'langgraph_triggers': ('branch:to:Superbot',), 'langgraph_path': ('__pregel_pull', 'Superbot'), 'langgraph_checkpoint_ns': 'Superbot:0aac9996-888f-b650-418e-1aec48515523'}, 'data': {'chunk': {'messages': [AIMessage(content=\"Hello Namit! Nice to meet you! Cricket is a great sport, isn't it? Do you have a favorite team or player?\", additional_kwargs={}, response_metadata={'finish_reason': 'stop', 'model_name': 'llama3-8b-8192', 'system_fingerprint': 'fp_24ec19897b'}, id='run--27ab15ca-1dff-405e-8183-a8c8836bc1a8', usage_metadata={'input_tokens': 22, 'output_tokens': 29, 'total_tokens': 51})]}}, 'parent_ids': ['ef028b0f-83ff-48f0-bc54-cedfa78c104d']}\n",
      "{'event': 'on_chain_end', 'data': {'output': {'messages': [AIMessage(content=\"Hello Namit! Nice to meet you! Cricket is a great sport, isn't it? Do you have a favorite team or player?\", additional_kwargs={}, response_metadata={'finish_reason': 'stop', 'model_name': 'llama3-8b-8192', 'system_fingerprint': 'fp_24ec19897b'}, id='run--27ab15ca-1dff-405e-8183-a8c8836bc1a8', usage_metadata={'input_tokens': 22, 'output_tokens': 29, 'total_tokens': 51})]}, 'input': {'messages': [HumanMessage(content='Hii,My name is Namit And I Like Cricket', additional_kwargs={}, response_metadata={}, id='9fc09b98-986e-41e0-b93c-9d3528fac85b')]}}, 'run_id': '2202171c-a961-46d2-9e85-a701c7e49cbd', 'name': 'Superbot', 'tags': ['graph:step:1'], 'metadata': {'thread_id': '5', 'langgraph_step': 1, 'langgraph_node': 'Superbot', 'langgraph_triggers': ('branch:to:Superbot',), 'langgraph_path': ('__pregel_pull', 'Superbot'), 'langgraph_checkpoint_ns': 'Superbot:0aac9996-888f-b650-418e-1aec48515523'}, 'parent_ids': ['ef028b0f-83ff-48f0-bc54-cedfa78c104d']}\n",
      "{'event': 'on_chain_stream', 'run_id': 'ef028b0f-83ff-48f0-bc54-cedfa78c104d', 'name': 'LangGraph', 'tags': [], 'metadata': {'thread_id': '5'}, 'data': {'chunk': {'Superbot': {'messages': [AIMessage(content=\"Hello Namit! Nice to meet you! Cricket is a great sport, isn't it? Do you have a favorite team or player?\", additional_kwargs={}, response_metadata={'finish_reason': 'stop', 'model_name': 'llama3-8b-8192', 'system_fingerprint': 'fp_24ec19897b'}, id='run--27ab15ca-1dff-405e-8183-a8c8836bc1a8', usage_metadata={'input_tokens': 22, 'output_tokens': 29, 'total_tokens': 51})]}}}, 'parent_ids': []}\n",
      "{'event': 'on_chain_end', 'data': {'output': {'messages': [HumanMessage(content='Hii,My name is Namit And I Like Cricket', additional_kwargs={}, response_metadata={}, id='9fc09b98-986e-41e0-b93c-9d3528fac85b'), AIMessage(content=\"Hello Namit! Nice to meet you! Cricket is a great sport, isn't it? Do you have a favorite team or player?\", additional_kwargs={}, response_metadata={'finish_reason': 'stop', 'model_name': 'llama3-8b-8192', 'system_fingerprint': 'fp_24ec19897b'}, id='run--27ab15ca-1dff-405e-8183-a8c8836bc1a8', usage_metadata={'input_tokens': 22, 'output_tokens': 29, 'total_tokens': 51})]}}, 'run_id': 'ef028b0f-83ff-48f0-bc54-cedfa78c104d', 'name': 'LangGraph', 'tags': [], 'metadata': {'thread_id': '5'}, 'parent_ids': []}\n"
     ]
    }
   ],
   "source": [
    "# Async Method proviedes More Detailed information\n",
    "config={\"configurable\":{'thread_id':\"5\"}}\n",
    "\n",
    "async for chunk in graph_builder.astream_events({'messages':\"Hii,My name is Namit And I Like Cricket\"},config,version=\"v2\"):\n",
    "    print (chunk)"
   ]
  },
  {
   "cell_type": "code",
   "execution_count": null,
   "id": "ed72d754",
   "metadata": {},
   "outputs": [],
   "source": []
  },
  {
   "cell_type": "code",
   "execution_count": null,
   "id": "de362ae3",
   "metadata": {},
   "outputs": [],
   "source": []
  },
  {
   "cell_type": "code",
   "execution_count": null,
   "id": "5d9d4e66",
   "metadata": {},
   "outputs": [],
   "source": []
  },
  {
   "cell_type": "code",
   "execution_count": null,
   "id": "e4f014c9",
   "metadata": {},
   "outputs": [],
   "source": []
  },
  {
   "cell_type": "code",
   "execution_count": null,
   "id": "fdaaadcc",
   "metadata": {},
   "outputs": [],
   "source": []
  },
  {
   "cell_type": "code",
   "execution_count": null,
   "id": "73c41755",
   "metadata": {},
   "outputs": [],
   "source": []
  },
  {
   "cell_type": "code",
   "execution_count": null,
   "id": "0ed4e43d",
   "metadata": {},
   "outputs": [],
   "source": []
  },
  {
   "cell_type": "code",
   "execution_count": null,
   "id": "6a12faf3",
   "metadata": {},
   "outputs": [],
   "source": []
  },
  {
   "cell_type": "code",
   "execution_count": null,
   "id": "50aa6dcb",
   "metadata": {},
   "outputs": [],
   "source": []
  },
  {
   "cell_type": "code",
   "execution_count": null,
   "id": "42ea5c42",
   "metadata": {},
   "outputs": [],
   "source": []
  },
  {
   "cell_type": "code",
   "execution_count": null,
   "id": "6715def6",
   "metadata": {},
   "outputs": [],
   "source": []
  },
  {
   "cell_type": "code",
   "execution_count": null,
   "id": "518ffae6",
   "metadata": {},
   "outputs": [],
   "source": []
  },
  {
   "cell_type": "code",
   "execution_count": null,
   "id": "28b8398d",
   "metadata": {},
   "outputs": [],
   "source": []
  },
  {
   "cell_type": "code",
   "execution_count": null,
   "id": "2717171d",
   "metadata": {},
   "outputs": [],
   "source": []
  },
  {
   "cell_type": "code",
   "execution_count": null,
   "id": "992a86ea",
   "metadata": {},
   "outputs": [],
   "source": []
  }
 ],
 "metadata": {
  "kernelspec": {
   "display_name": "LangGraph Course",
   "language": "python",
   "name": "python3"
  },
  "language_info": {
   "codemirror_mode": {
    "name": "ipython",
    "version": 3
   },
   "file_extension": ".py",
   "mimetype": "text/x-python",
   "name": "python",
   "nbconvert_exporter": "python",
   "pygments_lexer": "ipython3",
   "version": "3.12.10"
  }
 },
 "nbformat": 4,
 "nbformat_minor": 5
}
