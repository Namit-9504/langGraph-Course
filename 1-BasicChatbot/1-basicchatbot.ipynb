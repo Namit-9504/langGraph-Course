{
 "cells": [
  {
   "cell_type": "markdown",
   "id": "a8a30e24",
   "metadata": {},
   "source": [
    "## Build A Basic ChatBot With LangGraph(Graph API)"
   ]
  },
  {
   "cell_type": "code",
   "execution_count": 1,
   "id": "387503f0",
   "metadata": {},
   "outputs": [],
   "source": [
    "from typing import Annotated\n",
    "\n",
    "from typing_extensions import TypedDict\n",
    "\n",
    "from langgraph.graph import StateGraph , START , END\n",
    "from langgraph.graph.message import add_messages"
   ]
  },
  {
   "cell_type": "markdown",
   "id": "522c7cbf",
   "metadata": {},
   "source": [
    "add_messages is a one reducer which helps to store information in state variable by appending.\n",
    "It appends in new information in that variable."
   ]
  },
  {
   "cell_type": "code",
   "execution_count": 2,
   "id": "b3cd31af",
   "metadata": {},
   "outputs": [],
   "source": [
    "class State(TypedDict):\n",
    "    # Messages have the type \"list\". The 'add_messages' function\n",
    "    # in the annotation defines how this state key should be updated\n",
    "    # (in this case, it appends messages to the list, rather than overwritin them)\n",
    "    messages:Annotated[list,add_messages]\n",
    "\n"
   ]
  },
  {
   "cell_type": "code",
   "execution_count": 3,
   "id": "fe5cfa00",
   "metadata": {},
   "outputs": [
    {
     "data": {
      "text/plain": [
       "True"
      ]
     },
     "execution_count": 3,
     "metadata": {},
     "output_type": "execute_result"
    }
   ],
   "source": [
    "import os\n",
    "from dotenv import load_dotenv\n",
    "load_dotenv()"
   ]
  },
  {
   "cell_type": "code",
   "execution_count": 4,
   "id": "3dcd141d",
   "metadata": {},
   "outputs": [],
   "source": [
    "#There are 2 ways to interact with llms \n",
    "from langchain_groq import ChatGroq # 1st Way\n",
    "from langchain.chat_models import init_chat_model  # 2nd Way\n",
    "\n",
    "llm=ChatGroq(model=\"llama3-8b-8192\")"
   ]
  },
  {
   "cell_type": "code",
   "execution_count": 5,
   "id": "8c473bc5",
   "metadata": {},
   "outputs": [
    {
     "data": {
      "text/plain": [
       "ChatGroq(client=<groq.resources.chat.completions.Completions object at 0x000001DF95570CE0>, async_client=<groq.resources.chat.completions.AsyncCompletions object at 0x000001DF956B8290>, model_name='llama3-8b-8192', model_kwargs={}, groq_api_key=SecretStr('**********'))"
      ]
     },
     "execution_count": 5,
     "metadata": {},
     "output_type": "execute_result"
    }
   ],
   "source": [
    "llm"
   ]
  },
  {
   "cell_type": "code",
   "execution_count": 6,
   "id": "c7b99623",
   "metadata": {},
   "outputs": [
    {
     "data": {
      "text/plain": [
       "ChatGroq(client=<groq.resources.chat.completions.Completions object at 0x000001DF956B8950>, async_client=<groq.resources.chat.completions.AsyncCompletions object at 0x000001DF956B8680>, model_name='llama3-8b-8192', model_kwargs={}, groq_api_key=SecretStr('**********'))"
      ]
     },
     "execution_count": 6,
     "metadata": {},
     "output_type": "execute_result"
    }
   ],
   "source": [
    "llm=init_chat_model(\"groq:llama3-8b-8192\")\n",
    "llm"
   ]
  },
  {
   "cell_type": "code",
   "execution_count": 7,
   "id": "45748e2c",
   "metadata": {},
   "outputs": [],
   "source": [
    "# For Every node there is a node defination\n",
    "def chatbot(state:State):\n",
    "    return{\"messages\":[llm.invoke(state[\"messages\"])]} "
   ]
  },
  {
   "cell_type": "code",
   "execution_count": 8,
   "id": "77fc9c13",
   "metadata": {},
   "outputs": [],
   "source": [
    "graph_builder = StateGraph(State)\n",
    "\n",
    "#add node\n",
    "graph_builder.add_node(\"llmchatbot\",chatbot)\n",
    "#add edge\n",
    "graph_builder.add_edge(START,\"llmchatbot\")\n",
    "graph_builder.add_edge(\"llmchatbot\",END)\n",
    "\n",
    "\n",
    "# compile the Graph\n",
    "graph=graph_builder.compile()"
   ]
  },
  {
   "cell_type": "code",
   "execution_count": 9,
   "id": "3d2880bc",
   "metadata": {},
   "outputs": [
    {
     "data": {
      "image/png": "[encoded data removed]",
      "text/plain": [
       "<IPython.core.display.Image object>"
      ]
     },
     "metadata": {},
     "output_type": "display_data"
    }
   ],
   "source": [
    "##Visualize the graph\n",
    "from IPython.display import Image,display\n",
    "try:\n",
    "    display(Image(graph.get_graph().draw_mermaid_png()))\n",
    "except Exception:\n",
    "    pass"
   ]
  },
  {
   "cell_type": "code",
   "execution_count": 10,
   "id": "771b8776",
   "metadata": {},
   "outputs": [],
   "source": [
    "responce=graph.invoke({'messages':\"Hi\"})"
   ]
  },
  {
   "cell_type": "code",
   "execution_count": 11,
   "id": "dde2909e",
   "metadata": {},
   "outputs": [
    {
     "data": {
      "text/plain": [
       "\"Hi! It's nice to meet you. Is there something I can help you with or would you like to chat?\""
      ]
     },
     "execution_count": 11,
     "metadata": {},
     "output_type": "execute_result"
    }
   ],
   "source": [
    "responce[\"messages\"][-1].content"
   ]
  },
  {
   "cell_type": "code",
   "execution_count": 12,
   "id": "041c4576",
   "metadata": {},
   "outputs": [
    {
     "name": "stdout",
     "output_type": "stream",
     "text": [
      "Hi! I'm just an AI, so I don't have feelings like humans do, but I'm here to help you with any questions or topics you'd like to discuss. How about you? How's your day going?\n"
     ]
    }
   ],
   "source": [
    "for event in graph.stream({\"messages\":\"Hii how are you?\"}):\n",
    "    for value in event.values():\n",
    "        print(value[\"messages\"][-1].content)"
   ]
  },
  {
   "cell_type": "markdown",
   "id": "a8243c88",
   "metadata": {},
   "source": [
    "# ChatBot With Tool"
   ]
  },
  {
   "cell_type": "code",
   "execution_count": 13,
   "id": "6a294c12",
   "metadata": {},
   "outputs": [
    {
     "data": {
      "text/plain": [
       "{'query': 'What is Langgraph',\n",
       " 'follow_up_questions': None,\n",
       " 'answer': None,\n",
       " 'images': [],\n",
       " 'results': [{'title': 'What is LangGraph? - IBM',\n",
       "   'url': 'https://www.ibm.com/think/topics/langgraph',\n",
       "   'content': 'LangGraph, created by LangChain, is an open source AI agent framework designed to build, deploy and manage complex generative AI agent workflows. At its core, LangGraph uses the power of graph-based architectures to model and manage the intricate relationships between various components of an AI agent workflow. LangGraph illuminates the processes within an AI workflow, allowing full transparency of the agent’s state. By combining these technologies with a set of APIs and tools, LangGraph provides users with a versatile platform for developing AI solutions and workflows including chatbots, state graphs and other agent-based systems. Nodes: In LangGraph, nodes represent individual components or agents within an AI workflow. LangGraph uses enhanced decision-making by modeling complex relationships between nodes, which means it uses AI agents to analyze their past actions and feedback.',\n",
       "   'score': 0.9449999,\n",
       "   'raw_content': None},\n",
       "  {'title': 'What is LangGraph? - GeeksforGeeks',\n",
       "   'url': 'https://www.geeksforgeeks.org/machine-learning/what-is-langgraph/',\n",
       "   'content': 'LangGraph is a Python library that helps you build applications like chatbots or AI agents by organizing their logic step-by-step using state machine model. This step configures your Gemini API key and then we create a simple function ask_gemini that takes user input, sends it to the Gemini model and returns the AI-generated response. Creates a state structure with three fields: question, classification and response which flows through the LangGraph. import matplotlib.pyplot as plt from langgraph.graph import StateGraph\\u200bbuilder = StateGraph(GraphState)builder.add_node(\"classify\", classify)builder.add_node(\"respond\", respond)builder.set_entry_point(\"classify\")builder.add_edge(\"classify\", \"respond\")builder.set_finish_point(\"respond\")app = builder.compile()\\u200bdef visualize_workflow(builder): G = nx.DiGraph()\\u200b for node in builder.nodes: G.add_node(node) for edge in builder.edges: G.add_edge(edge[0], edge[1])\\u200b pos = nx.spring_layout(G) nx.draw(G, pos, with_labels=True, node_size=3000, node_color=\"skyblue\", font_size=12, font_weight=\"bold\", arrows=True)  plt.title(\"Langchain Workflow Visualization\") plt.show()\\u200bvisualize_workflow(builder)',\n",
       "   'score': 0.9119436,\n",
       "   'raw_content': None}],\n",
       " 'response_time': 1.36}"
      ]
     },
     "execution_count": 13,
     "metadata": {},
     "output_type": "execute_result"
    }
   ],
   "source": [
    "from langchain_tavily import TavilySearch\n",
    "\n",
    "tool= TavilySearch(max_results=2)\n",
    "tool.invoke(\"What is Langgraph\")"
   ]
  },
  {
   "cell_type": "code",
   "execution_count": 14,
   "id": "c6ad80f6",
   "metadata": {},
   "outputs": [],
   "source": [
    "# what is doc stream ---- Here the data in triple \"\" is a doc stream\n",
    "def multiply(a:int,b:int)->int:\n",
    "    \"\"\"\n",
    "    Multiply a and b\n",
    "\n",
    "    Args :\n",
    "        a (int): first int\n",
    "        b (int): second int\n",
    "    Returns :\n",
    "        int: output int\n",
    "    \"\"\"\n",
    "    return a*b"
   ]
  },
  {
   "cell_type": "code",
   "execution_count": 15,
   "id": "9b8c9f3d",
   "metadata": {},
   "outputs": [],
   "source": [
    "tools = [tool,multiply]"
   ]
  },
  {
   "cell_type": "code",
   "execution_count": 16,
   "id": "1de2f5a1",
   "metadata": {},
   "outputs": [],
   "source": [
    "llm_with_tool=llm.bind_tools(tools)"
   ]
  },
  {
   "cell_type": "code",
   "execution_count": 17,
   "id": "30055ffc",
   "metadata": {},
   "outputs": [
    {
     "data": {
      "text/plain": [
       "RunnableBinding(bound=ChatGroq(client=<groq.resources.chat.completions.Completions object at 0x000001DF956B8950>, async_client=<groq.resources.chat.completions.AsyncCompletions object at 0x000001DF956B8680>, model_name='llama3-8b-8192', model_kwargs={}, groq_api_key=SecretStr('**********')), kwargs={'tools': [{'type': 'function', 'function': {'name': 'tavily_search', 'description': 'A search engine optimized for comprehensive, accurate, and trusted results. Useful for when you need to answer questions about current events. It not only retrieves URLs and snippets, but offers advanced search depths, domain management, time range filters, and image search, this tool delivers real-time, accurate, and citation-backed results.Input should be a search query.', 'parameters': {'properties': {'query': {'description': 'Search query to look up', 'type': 'string'}, 'include_domains': {'anyOf': [{'items': {'type': 'string'}, 'type': 'array'}, {'type': 'null'}], 'default': [], 'description': 'A list of domains to restrict search results to.\\n\\n        Use this parameter when:\\n        1. The user explicitly requests information from specific websites (e.g., \"Find climate data from nasa.gov\")\\n        2. The user mentions an organization or company without specifying the domain (e.g., \"Find information about iPhones from Apple\")\\n\\n        In both cases, you should determine the appropriate domains (e.g., [\"nasa.gov\"] or [\"apple.com\"]) and set this parameter.\\n\\n        Results will ONLY come from the specified domains - no other sources will be included.\\n        Default is None (no domain restriction).\\n        '}, 'exclude_domains': {'anyOf': [{'items': {'type': 'string'}, 'type': 'array'}, {'type': 'null'}], 'default': [], 'description': 'A list of domains to exclude from search results.\\n\\n        Use this parameter when:\\n        1. The user explicitly requests to avoid certain websites (e.g., \"Find information about climate change but not from twitter.com\")\\n        2. The user mentions not wanting results from specific organizations without naming the domain (e.g., \"Find phone reviews but nothing from Apple\")\\n\\n        In both cases, you should determine the appropriate domains to exclude (e.g., [\"twitter.com\"] or [\"apple.com\"]) and set this parameter.\\n\\n        Results will filter out all content from the specified domains.\\n        Default is None (no domain exclusion).\\n        '}, 'search_depth': {'anyOf': [{'enum': ['basic', 'advanced'], 'type': 'string'}, {'type': 'null'}], 'default': 'basic', 'description': 'Controls search thoroughness and result comprehensiveness.\\n    \\n        Use \"basic\" for simple queries requiring quick, straightforward answers.\\n        \\n        Use \"advanced\" (default) for complex queries, specialized topics, \\n        rare information, or when in-depth analysis is needed.\\n        '}, 'include_images': {'anyOf': [{'type': 'boolean'}, {'type': 'null'}], 'default': False, 'description': 'Determines if the search returns relevant images along with text results.\\n   \\n        Set to True when the user explicitly requests visuals or when images would \\n        significantly enhance understanding (e.g., \"Show me what black holes look like,\" \\n        \"Find pictures of Renaissance art\").\\n        \\n        Leave as False (default) for most informational queries where text is sufficient.\\n        '}, 'time_range': {'anyOf': [{'enum': ['day', 'week', 'month', 'year'], 'type': 'string'}, {'type': 'null'}], 'default': None, 'description': 'Limits results to content published within a specific timeframe.\\n        \\n        ONLY set this when the user explicitly mentions a time period \\n        (e.g., \"latest AI news,\" \"articles from last week\").\\n        \\n        For less popular or niche topics, use broader time ranges \\n        (\"month\" or \"year\") to ensure sufficient relevant results.\\n   \\n        Options: \"day\" (24h), \"week\" (7d), \"month\" (30d), \"year\" (365d).\\n        \\n        Default is None.\\n        '}, 'topic': {'anyOf': [{'enum': ['general', 'news', 'finance'], 'type': 'string'}, {'type': 'null'}], 'default': 'general', 'description': 'Specifies search category for optimized results.\\n   \\n        Use \"general\" (default) for most queries, INCLUDING those with terms like \\n        \"latest,\" \"newest,\" or \"recent\" when referring to general information.\\n\\n        Use \"finance\" for markets, investments, economic data, or financial news.\\n\\n        Use \"news\" ONLY for politics, sports, or major current events covered by \\n        mainstream media - NOT simply because a query asks for \"new\" information.\\n        '}}, 'required': ['query'], 'type': 'object'}}}, {'type': 'function', 'function': {'name': 'multiply', 'description': 'Multiply a and b Args :\\n    a (int): first int\\n    b (int): second int\\nReturns :\\n    int: output int', 'parameters': {'properties': {'a': {'type': 'integer'}, 'b': {'type': 'integer'}}, 'required': ['a', 'b'], 'type': 'object'}}}]}, config={}, config_factories=[])"
      ]
     },
     "execution_count": 17,
     "metadata": {},
     "output_type": "execute_result"
    }
   ],
   "source": [
    "llm_with_tool"
   ]
  },
  {
   "cell_type": "code",
   "execution_count": 18,
   "id": "62bdf0c7",
   "metadata": {},
   "outputs": [],
   "source": [
    "class State(TypedDict):\n",
    "    # Messages have the type \"list\". The 'add_messages' function\n",
    "    # in the annotation defines how this state key should be updated\n",
    "    # (in this case, it appends messages to the list, rather than overwritin them)\n",
    "    messages:Annotated[list,add_messages]\n"
   ]
  },
  {
   "cell_type": "code",
   "execution_count": 19,
   "id": "02bd8740",
   "metadata": {},
   "outputs": [
    {
     "data": {
      "image/png": "[encoded data removed]",
      "text/plain": [
       "<IPython.core.display.Image object>"
      ]
     },
     "metadata": {},
     "output_type": "display_data"
    }
   ],
   "source": [
    "## StateGraph\n",
    "from langgraph.graph import StateGraph , START , END\n",
    "from langgraph.prebuilt import ToolNode\n",
    "from langgraph.prebuilt import tools_condition\n",
    "\n",
    "# Node Defination \n",
    "def tool_calling_llm(state:State):\n",
    "    return {\"messages\":[llm_with_tool.invoke(state[\"messages\"])]}\n",
    "\n",
    "# Graph\n",
    "builder=StateGraph(State)\n",
    "builder.add_node(\"tool_calling_llm\",tool_calling_llm)\n",
    "builder.add_node(\"tools\",ToolNode(tools))\n",
    "\n",
    "# Add Edges \n",
    "builder.add_edge(START,\"tool_calling_llm\")\n",
    "builder.add_conditional_edges(\n",
    "    \"tool_calling_llm\",\n",
    "    # If the latest message (result) from assistant is a tool call - > tools_condition routes to tools\n",
    "    # If the latest message (result) from assistant is a not a tool call - > tools_condition routes to END\n",
    "    tools_condition\n",
    ")\n",
    "\n",
    "builder.add_edge(\"tools\",END)\n",
    "\n",
    "## Compile the graph\n",
    "graph=builder.compile()\n",
    "\n",
    "display(Image(graph.get_graph().draw_mermaid_png())) \n",
    "\n",
    "\n",
    "\n",
    "\n"
   ]
  },
  {
   "cell_type": "code",
   "execution_count": 20,
   "id": "c7f22cb5",
   "metadata": {},
   "outputs": [],
   "source": [
    "responce=graph.invoke({\"messages\":\"What is the recent ai news\"})"
   ]
  },
  {
   "cell_type": "code",
   "execution_count": 21,
   "id": "f011cdc8",
   "metadata": {},
   "outputs": [
    {
     "data": {
      "text/plain": [
       "'{\"query\": \"recent ai news\", \"follow_up_questions\": null, \"answer\": null, \"images\": [], \"results\": [{\"url\": \"https://aibusiness.com/ml/nvidia-self-driving-software-platform-in-full-production-gtc-paris\", \"title\": \"Nvidia Self-Driving Software Platform in Full Production; GTC Paris - AI Business\", \"score\": 0.76194656, \"published_date\": \"Thu, 12 Jun 2025 12:38:26 GMT\", \"content\": \"byStu Rubin, Casey Kacirek and Jenn Gerasimov\\\\n\\\\nJun 11, 2025\\\\n\\\\n2 Min Read\\\\n\\\\nGenerative AI\\\\n\\\\n#### Related Topics\\\\n\\\\n   Foundation Models\\\\n\\\\n   Agentic AI\\\\n\\\\n#### Recent inGenerative AI\\\\n\\\\nSee All\\\\n\\\\nGoogle Cloud\\'s Daniel RoodImage 15Agentic AI\\\\n\\\\nGoogle Takes Agentic Leap: AI Summit London 2025Google Takes Agentic Leap: AI Summit London 2025\\\\n\\\\nbyBerenice Baker\\\\n\\\\nJun 12, 2025\\\\n\\\\n3 Min Read\\\\n\\\\nthumbnailImage 16Generative AI [...] Robotic process automation\\\\n\\\\n   Intelligent automation\\\\n\\\\n#### Recent inAutomation\\\\n\\\\nSee All\\\\n\\\\nNew York City chief technology officer Matthew C. Fraser (left)Image 9Chatbots\\\\n\\\\nAI\\'s Invisible Impact on New York City: AI Summit London 2025AI\\'s Invisible Impact on New York City: AI Summit London 2025\\\\n\\\\nbyBerenice Baker\\\\n\\\\nJun 12, 2025\\\\n\\\\n3 Min Read\\\\n\\\\nGoogle Cloud\\'s Daniel RoodImage 10Agentic AI\\\\n\\\\nGoogle Takes Agentic Leap: AI Summit London 2025Google Takes Agentic Leap: AI Summit London 2025 [...] #### Recent inData\\\\n\\\\nSee All\\\\n\\\\nthumbnailImage 7Data\\\\n\\\\nAI Gives NASCAR Team a Winning Edge: AI Summit London 2025AI Gives NASCAR Team a Winning Edge: AI Summit London 2025\\\\n\\\\nbyBerenice Baker\\\\n\\\\nJun 11, 2025\\\\n\\\\n3 Min Read\\\\n\\\\nA birds-eye view of Nvidia\\'s AI smart city blueprintImage 8Data\\\\n\\\\nNvidia Smart City AI Blueprint Showcased at Nvidia GTC ParisNvidia Smart City AI Blueprint Showcased at Nvidia GTC Paris\\\\n\\\\nbyGraham Hope\\\\n\\\\nJun 11, 2025\\\\n\\\\n2 Min Read\\\\n\\\\nAutomation\\\\n\\\\n#### Related Topics\", \"raw_content\": null}, {\"url\": \"https://www.globenewswire.com/news-release/2025/06/12/3098460/0/en/Artificial-Intelligence-in-Medicine-Market-to-Reach-USD-45-Billion-by-2034-Exactitude-Consultancy.html\", \"title\": \"Artificial Intelligence in Medicine Market to Reach USD 45 Billion by 2034 | Exactitude Consultancy - GlobeNewswire\", \"score\": 0.7038554, \"published_date\": \"Thu, 12 Jun 2025 13:52:56 GMT\", \"content\": \"1. IBM Watson Health-Month/Year: March 2023 -Type of Development: Strategic Partnership -Detailed Analysis: In March 2023, IBM Watson Health announced a strategic partnership with Merck to leverage AI in drug development. This alliance aims to improve the efficiency of clinical trials by integrating AI-driven insights into the research workflow. The significance of this development lies in the potential to expedite the drug discovery process, reducing time-to-market and costs associated with [...] 5. Microsoft Healthcare-Month/Year: October 2023 -Type of Development: Technological Advancement -Detailed Analysis: In October 2023, Microsoft Healthcare launched a new generative AI model aimed at improving patient engagement through personalized communication. This technological advancement utilizes large language models to tailor interactions with patients, providing them with timely and relevant information. The significance of this development cannot be overstated, as it represents a [...] 3. Google Health-Month/Year: August 2023 -Type of Development: Regulatory Approval -Detailed Analysis: In August 2023, Google Health received FDA approval for its AI algorithms that assist in identifying retinal diseases from eye scans. This regulatory milestone marks a crucial turning point in the acceptance of AI technologies within the healthcare sector. The significance of this development extends beyond Google\\'s advancements; it reflects a broader movement towards regulatory bodies\", \"raw_content\": null}], \"response_time\": 1.62}'"
      ]
     },
     "execution_count": 21,
     "metadata": {},
     "output_type": "execute_result"
    }
   ],
   "source": [
    "responce['messages'][-1].content"
   ]
  },
  {
   "cell_type": "code",
   "execution_count": 22,
   "id": "bd1d54f2",
   "metadata": {},
   "outputs": [
    {
     "name": "stdout",
     "output_type": "stream",
     "text": [
      "================================\u001b[1m Human Message \u001b[0m=================================\n",
      "\n",
      "What is the recent ai news\n",
      "==================================\u001b[1m Ai Message \u001b[0m==================================\n",
      "Tool Calls:\n",
      "  tavily_search (b2e6x627n)\n",
      " Call ID: b2e6x627n\n",
      "  Args:\n",
      "    query: recent ai news\n",
      "    search_depth: advanced\n",
      "    topic: news\n",
      "=================================\u001b[1m Tool Message \u001b[0m=================================\n",
      "Name: tavily_search\n",
      "\n",
      "{\"query\": \"recent ai news\", \"follow_up_questions\": null, \"answer\": null, \"images\": [], \"results\": [{\"url\": \"https://aibusiness.com/ml/nvidia-self-driving-software-platform-in-full-production-gtc-paris\", \"title\": \"Nvidia Self-Driving Software Platform in Full Production; GTC Paris - AI Business\", \"score\": 0.76194656, \"published_date\": \"Thu, 12 Jun 2025 12:38:26 GMT\", \"content\": \"byStu Rubin, Casey Kacirek and Jenn Gerasimov\\n\\nJun 11, 2025\\n\\n2 Min Read\\n\\nGenerative AI\\n\\n#### Related Topics\\n\\n   Foundation Models\\n\\n   Agentic AI\\n\\n#### Recent inGenerative AI\\n\\nSee All\\n\\nGoogle Cloud's Daniel RoodImage 15Agentic AI\\n\\nGoogle Takes Agentic Leap: AI Summit London 2025Google Takes Agentic Leap: AI Summit London 2025\\n\\nbyBerenice Baker\\n\\nJun 12, 2025\\n\\n3 Min Read\\n\\nthumbnailImage 16Generative AI [...] Robotic process automation\\n\\n   Intelligent automation\\n\\n#### Recent inAutomation\\n\\nSee All\\n\\nNew York City chief technology officer Matthew C. Fraser (left)Image 9Chatbots\\n\\nAI's Invisible Impact on New York City: AI Summit London 2025AI's Invisible Impact on New York City: AI Summit London 2025\\n\\nbyBerenice Baker\\n\\nJun 12, 2025\\n\\n3 Min Read\\n\\nGoogle Cloud's Daniel RoodImage 10Agentic AI\\n\\nGoogle Takes Agentic Leap: AI Summit London 2025Google Takes Agentic Leap: AI Summit London 2025 [...] #### Recent inData\\n\\nSee All\\n\\nthumbnailImage 7Data\\n\\nAI Gives NASCAR Team a Winning Edge: AI Summit London 2025AI Gives NASCAR Team a Winning Edge: AI Summit London 2025\\n\\nbyBerenice Baker\\n\\nJun 11, 2025\\n\\n3 Min Read\\n\\nA birds-eye view of Nvidia's AI smart city blueprintImage 8Data\\n\\nNvidia Smart City AI Blueprint Showcased at Nvidia GTC ParisNvidia Smart City AI Blueprint Showcased at Nvidia GTC Paris\\n\\nbyGraham Hope\\n\\nJun 11, 2025\\n\\n2 Min Read\\n\\nAutomation\\n\\n#### Related Topics\", \"raw_content\": null}, {\"url\": \"https://www.globenewswire.com/news-release/2025/06/12/3098460/0/en/Artificial-Intelligence-in-Medicine-Market-to-Reach-USD-45-Billion-by-2034-Exactitude-Consultancy.html\", \"title\": \"Artificial Intelligence in Medicine Market to Reach USD 45 Billion by 2034 | Exactitude Consultancy - GlobeNewswire\", \"score\": 0.7038554, \"published_date\": \"Thu, 12 Jun 2025 13:52:56 GMT\", \"content\": \"1. IBM Watson Health-Month/Year: March 2023 -Type of Development: Strategic Partnership -Detailed Analysis: In March 2023, IBM Watson Health announced a strategic partnership with Merck to leverage AI in drug development. This alliance aims to improve the efficiency of clinical trials by integrating AI-driven insights into the research workflow. The significance of this development lies in the potential to expedite the drug discovery process, reducing time-to-market and costs associated with [...] 5. Microsoft Healthcare-Month/Year: October 2023 -Type of Development: Technological Advancement -Detailed Analysis: In October 2023, Microsoft Healthcare launched a new generative AI model aimed at improving patient engagement through personalized communication. This technological advancement utilizes large language models to tailor interactions with patients, providing them with timely and relevant information. The significance of this development cannot be overstated, as it represents a [...] 3. Google Health-Month/Year: August 2023 -Type of Development: Regulatory Approval -Detailed Analysis: In August 2023, Google Health received FDA approval for its AI algorithms that assist in identifying retinal diseases from eye scans. This regulatory milestone marks a crucial turning point in the acceptance of AI technologies within the healthcare sector. The significance of this development extends beyond Google's advancements; it reflects a broader movement towards regulatory bodies\", \"raw_content\": null}], \"response_time\": 1.62}\n"
     ]
    }
   ],
   "source": [
    "for m in responce['messages']:\n",
    "    m.pretty_print()"
   ]
  },
  {
   "cell_type": "code",
   "execution_count": 23,
   "id": "6695b024",
   "metadata": {},
   "outputs": [
    {
     "name": "stdout",
     "output_type": "stream",
     "text": [
      "================================\u001b[1m Human Message \u001b[0m=================================\n",
      "\n",
      "What is 2 multiplied by 3 and then multiply by 10\n",
      "==================================\u001b[1m Ai Message \u001b[0m==================================\n",
      "Tool Calls:\n",
      "  multiply (p8gjn9x07)\n",
      " Call ID: p8gjn9x07\n",
      "  Args:\n",
      "    a: 2\n",
      "    b: 3\n",
      "  multiply (vvphwgt73)\n",
      " Call ID: vvphwgt73\n",
      "  Args:\n",
      "    a: 6\n",
      "    b: 10\n",
      "=================================\u001b[1m Tool Message \u001b[0m=================================\n",
      "Name: multiply\n",
      "\n",
      "6\n",
      "=================================\u001b[1m Tool Message \u001b[0m=================================\n",
      "Name: multiply\n",
      "\n",
      "60\n"
     ]
    }
   ],
   "source": [
    "responce=graph.invoke({\"messages\":\"What is 2 multiplied by 3 and then multiply by 10\"})\n",
    "for m in responce['messages']:\n",
    "    m.pretty_print()"
   ]
  },
  {
   "cell_type": "code",
   "execution_count": 24,
   "id": "bc24e11a",
   "metadata": {},
   "outputs": [
    {
     "name": "stdout",
     "output_type": "stream",
     "text": [
      "================================\u001b[1m Human Message \u001b[0m=================================\n",
      "\n",
      "Give me recent ai news and 2 multiplied by 3 and then multipy by 10\n",
      "==================================\u001b[1m Ai Message \u001b[0m==================================\n",
      "Tool Calls:\n",
      "  tavily_search (pj183a3b7)\n",
      " Call ID: pj183a3b7\n",
      "  Args:\n",
      "    query: recent ai news\n",
      "    search_depth: advanced\n",
      "    time_range: day\n",
      "  multiply (86prshemp)\n",
      " Call ID: 86prshemp\n",
      "  Args:\n",
      "    a: 2\n",
      "    b: 3\n",
      "  multiply (qp7g2xnbm)\n",
      " Call ID: qp7g2xnbm\n",
      "  Args:\n",
      "    a: 6\n",
      "    b: 10\n",
      "=================================\u001b[1m Tool Message \u001b[0m=================================\n",
      "Name: tavily_search\n",
      "\n",
      "{\"query\": \"recent ai news\", \"follow_up_questions\": null, \"answer\": null, \"images\": [], \"results\": [{\"url\": \"https://www.artificialintelligence-news.com/\", \"title\": \"AI News | Latest AI News, Analysis & Events\", \"content\": \"Apple hints at AI integration in chip design process · AI adoption matures but deployment hurdles remain · Ren Zhengfei: China's AI future and Huawei's long\", \"score\": 0.69274646, \"raw_content\": null}, {\"url\": \"https://techcrunch.com/category/artificial-intelligence/\", \"title\": \"AI News & Artificial Intelligence - TechCrunch\", \"content\": \"### [Intel to lay off up to 20% of Intel Foundry workers](https://techcrunch.com/2025/06/17/intel-to-layoff-up-to-20-of-intel-foundry-workers/)\\n\\n![AI robot face and programming code on a black background.](https://techcrunch.com/wp-content/uploads/2025/02/GettyImages-1356382582.jpg?w=563)\\n\\n### [Anysphere launches a $200-a-month Cursor AI coding subscription](https://techcrunch.com/2025/06/17/anysphere-launches-a-200-a-month-cursor-ai-coding-subscription/) [...] ### [Pope Leo makes AI’s threat to humanity a signature issue](https://techcrunch.com/2025/06/18/pope-leo-makes-ais-threat-to-humanity-a-signature-issue/)\\n\\n![Cluely founder Roy Lee party invitation video](https://techcrunch.com/wp-content/uploads/2025/06/Cluely-party-video.png?w=583)\\n\\n### [Police shut down Cluely’s party, the ‘cheat at everything’ startup](https://techcrunch.com/2025/06/17/police-shut-down-cluelys-party-the-cheat-at-everything-startup/) [...] ### [OpenAI drops Scale AI as a data provider following Meta deal](https://techcrunch.com/2025/06/18/openai-drops-scale-ai-as-a-data-provider-following-meta-deal/)\\n\\n![Gas turbines are visible at an xAI data center on Riverport Rd in Memphis, TN on April 25, 2025.](https://techcrunch.com/wp-content/uploads/2025/06/GettyImages-2217198328.jpeg?w=563)\", \"score\": 0.6762998, \"raw_content\": null}], \"response_time\": 1.73}\n",
      "=================================\u001b[1m Tool Message \u001b[0m=================================\n",
      "Name: multiply\n",
      "\n",
      "6\n",
      "=================================\u001b[1m Tool Message \u001b[0m=================================\n",
      "Name: multiply\n",
      "\n",
      "60\n"
     ]
    }
   ],
   "source": [
    "responce=graph.invoke({\"messages\":\"Give me recent ai news and 2 multiplied by 3 and then multipy by 10\"})\n",
    "for m in responce['messages']:\n",
    "    m.pretty_print()"
   ]
  },
  {
   "cell_type": "markdown",
   "id": "fe32008d",
   "metadata": {},
   "source": [
    "# ReACT Agent Architecture"
   ]
  },
  {
   "cell_type": "code",
   "execution_count": 25,
   "id": "8bed5062",
   "metadata": {},
   "outputs": [
    {
     "data": {
      "image/png": "[encoded data removed]",
      "text/plain": [
       "<IPython.core.display.Image object>"
      ]
     },
     "metadata": {},
     "output_type": "display_data"
    }
   ],
   "source": [
    "## StateGraph\n",
    "from langgraph.graph import StateGraph , START , END\n",
    "from langgraph.prebuilt import ToolNode\n",
    "from langgraph.prebuilt import tools_condition\n",
    "\n",
    "# Node Defination \n",
    "def tool_calling_llm(state:State):\n",
    "    return {\"messages\":[llm_with_tool.invoke(state[\"messages\"])]}\n",
    "\n",
    "# Graph\n",
    "builder=StateGraph(State)\n",
    "builder.add_node(\"tool_calling_llm\",tool_calling_llm)\n",
    "builder.add_node(\"tools\",ToolNode(tools))\n",
    "\n",
    "# Add Edges \n",
    "builder.add_edge(START,\"tool_calling_llm\")\n",
    "builder.add_conditional_edges(\n",
    "    \"tool_calling_llm\",\n",
    "    # If the latest message (result) from assistant is a tool call - > tools_condition routes to tools\n",
    "    # If the latest message (result) from assistant is a not a tool call - > tools_condition routes to END\n",
    "    tools_condition\n",
    ")\n",
    " \n",
    "builder.add_edge(\"tools\",\"tool_calling_llm\") #change\n",
    "builder.add_edge(\"tool_calling_llm\",END) # change\n",
    "## Compile the graph\n",
    "graph=builder.compile()\n",
    "\n",
    "display(Image(graph.get_graph().draw_mermaid_png())) "
   ]
  },
  {
   "cell_type": "code",
   "execution_count": 26,
   "id": "85e65287",
   "metadata": {},
   "outputs": [
    {
     "name": "stdout",
     "output_type": "stream",
     "text": [
      "================================\u001b[1m Human Message \u001b[0m=================================\n",
      "\n",
      "Give me the recent ai news and then multiply 5 by 10\n",
      "==================================\u001b[1m Ai Message \u001b[0m==================================\n",
      "Tool Calls:\n",
      "  tavily_search (f79rgjyqv)\n",
      " Call ID: f79rgjyqv\n",
      "  Args:\n",
      "    query: recent ai news\n",
      "    search_depth: advanced\n",
      "    time_range: day\n",
      "    topic: news\n",
      "  multiply (4d03qy0k1)\n",
      " Call ID: 4d03qy0k1\n",
      "  Args:\n",
      "    a: 5\n",
      "    b: 10\n",
      "=================================\u001b[1m Tool Message \u001b[0m=================================\n",
      "Name: tavily_search\n",
      "\n",
      "{\"query\": \"recent ai news\", \"follow_up_questions\": null, \"answer\": null, \"images\": [], \"results\": [{\"url\": \"https://www.csoonline.com/article/4009603/north-koreas-bluenoroff-uses-ai-deepfakes-to-push-mac-malware-in-fake-zoom-calls.html\", \"title\": \"North Korea’s BlueNoroff uses AI deepfakes to push Mac malware in fake Zoom calls - csoonline.com\", \"score\": 0.6615081, \"published_date\": \"Thu, 19 Jun 2025 12:06:34 GMT\", \"content\": \"Related content\\n---------------\\n\\nNews ### WormGPT returns: New malicious AI variants built on Grok and Mixtral uncovered By Shweta Sharma Jun 18, 2025 4 mins Generative AI Malware SecurityNews ### Malicious PyPI package targets Chimera users to steal AWS tokens, CI/CD secrets By Shweta Sharma Jun 17, 2025 4 mins Developer Malware SecurityNews ### Major infostealer network taken down in Interpol raid By Viktor Eriksson Jun 12, 2025 2 mins Identity and Access Management Malware Security [...] news ### China-linked hackers target cybersecurity firms, governments in global espionage campaign Jun 11, 2025 4 mins\\n   news ### New npm threats can erase production systems with a single request Jun 10, 2025 3 mins\\n   news ### Chrome extension privacy promises undone by hardcoded secrets, leaky HTTP Jun 9, 2025 4 mins\\n   news ### New phishing campaign hijacks clipboard via fake CAPTCHA for malware delivery Jun 6, 2025 4 mins [...] news ### Asana’s MCP AI connector could have exposed corporate data, CSOs warned By Howard Solomon Jun 18, 2025 6 mins Artificial Intelligence Data and Information Security Vulnerabilities Image 6: Image\\n\\npodcast ### CSO Executive Sessions: How AI and LLMs are affecting security in the financial services industry Mar 20, 2025 13 mins CSO and CISO Financial Services Industry Security Operations Center Image 7: Image\", \"raw_content\": null}, {\"url\": \"https://www.manufacturing.net/artificial-intelligence/news/22943799/ai-that-learns-manufacturing-defect-detection-instantly\", \"title\": \"AI That Learns Manufacturing Defect Detection Instantly - Manufacturing.net\", \"score\": 0.60133666, \"published_date\": \"Wed, 18 Jun 2025 21:23:22 GMT\", \"content\": \"##### Coco Robotics Raises $80M to Expand Autonomous Delivery, AI Platform\\n\\nNVIDIA CEO Jensen Huang delivers his keynote address Wednesday, June 11, 2025 at the Vivatech fair in Paris.\\n\\n##### Nvidia Chief Calls AI ‘The Greatest Equalizer’\\n\\nElizabeth Blackert is a Rice University doctoral alumna who is the first author on the study.\\n\\n##### Light, AI Drive Precise Motion in Soft Robotic Arm Developed at Rice\\n\\nAi I Stock 2200550653\\n\\n##### How One Manufacturer Took AI to Prime Time – and It Worked [...] A data center owned by Amazon Web Services, front right, is under construction next to the Susquehanna nuclear power plant in Berwick, Pa., on Tuesday, Jan. 14, 2024.\\n\\n##### Amazon to Spend $20B on Data Centers in Pennsylvania\\n\\nSachsenmilch production facility.\\n\\n##### Siemens, Sachsenmilch Break New Ground in the Food and Beverage Industry\\n\\nQuantum Systems’ 135,000-square-foot Moorpark facility.\\n\\n##### Quantum Systems Opens New U.S. Facility to Scale Delivery of AI-Powered ISR Solutions\", \"raw_content\": null}], \"response_time\": 3.4}\n",
      "=================================\u001b[1m Tool Message \u001b[0m=================================\n",
      "Name: multiply\n",
      "\n",
      "50\n",
      "==================================\u001b[1m Ai Message \u001b[0m==================================\n",
      "\n",
      "<tool-use>{\"tool_calls\": []}</tool-use>\n"
     ]
    }
   ],
   "source": [
    "responce=graph.invoke({\"messages\" : \"Give me the recent ai news and then multiply 5 by 10\"})\n",
    "for m in responce['messages']:\n",
    "    m.pretty_print()\n"
   ]
  },
  {
   "cell_type": "markdown",
   "id": "a907d263",
   "metadata": {},
   "source": [
    "# Adding Memory In Agentic Graph"
   ]
  },
  {
   "cell_type": "code",
   "execution_count": 27,
   "id": "5afda67c",
   "metadata": {},
   "outputs": [
    {
     "name": "stdout",
     "output_type": "stream",
     "text": [
      "================================\u001b[1m Human Message \u001b[0m=================================\n",
      "\n",
      "Heyyy! My Name is Namit\n",
      "==================================\u001b[1m Ai Message \u001b[0m==================================\n",
      "\n",
      "Nice to meet you, Namit! It's great to have you here. What brings you to this conversation?\n"
     ]
    }
   ],
   "source": [
    "responce=graph.invoke({\"messages\" : \"Heyyy! My Name is Namit\"})\n",
    "for m in responce['messages']:\n",
    "    m.pretty_print()\n"
   ]
  },
  {
   "cell_type": "code",
   "execution_count": 28,
   "id": "aa0a824e",
   "metadata": {},
   "outputs": [
    {
     "name": "stdout",
     "output_type": "stream",
     "text": [
      "================================\u001b[1m Human Message \u001b[0m=================================\n",
      "\n",
      "What is My name\n",
      "==================================\u001b[1m Ai Message \u001b[0m==================================\n",
      "Tool Calls:\n",
      "  multiply (mm041y9c7)\n",
      " Call ID: mm041y9c7\n",
      "  Args:\n",
      "    a: 1\n",
      "    b: 2\n",
      "=================================\u001b[1m Tool Message \u001b[0m=================================\n",
      "Name: multiply\n",
      "\n",
      "2\n",
      "==================================\u001b[1m Ai Message \u001b[0m==================================\n",
      "Tool Calls:\n",
      "  tavily_search (stfdn146s)\n",
      " Call ID: stfdn146s\n",
      "  Args:\n",
      "    query: What is my name\n",
      "=================================\u001b[1m Tool Message \u001b[0m=================================\n",
      "Name: tavily_search\n",
      "\n",
      "{\"query\": \"What is my name\", \"follow_up_questions\": null, \"answer\": null, \"images\": [], \"results\": [{\"title\": \"What Does My Name Mean? The Meaning Of Names\", \"url\": \"https://www.names.org/\", \"content\": \"Names.org is a website that helps you discover the meaning, origin, popularity, and trends of your name. You can search by first name, last name, full name, or baby name, and explore various lists and categories of names.\", \"score\": 0.33157462, \"raw_content\": null}, {\"title\": \"How Rare is My Name? - How Many of Me\", \"url\": \"https://howmanyofme.name/how-rare-is-my-name/\", \"content\": \"How Rare is My Name? *   How Rare is My Name How Rare is My Name? How Rare is My Name ### **How Rare is My Name?** Very often last names like _Smith_, _Johnson_, or _Williams_ dominate the U.S., while rare surnames can hint at a unique family lineage or recent immigration. While your first or last name might be shared by thousands of people, the specific combination of both could make your full name rare in the U.S. Full-name analysis tools provide fascinating statistics on how many individuals share your exact name and offer insights into its uniqueness. ### **Why do People Have Rare Names?** Some people choose rare names because they want to be unique or stand out from the crowd.\", \"score\": 0.18064119, \"raw_content\": null}], \"response_time\": 1.74}\n",
      "==================================\u001b[1m Ai Message \u001b[0m==================================\n",
      "\n",
      "Based on the results from the \"tavily_search\" tool, I can provide a more direct answer to your question.\n",
      "\n",
      "It seems that the tool did not provide a specific answer to your question, but instead provided some information about names and their meanings. However, I can try to answer your question based on the available information.\n",
      "\n",
      "If you're asking about your own name, I'm a large language model, I don't have access to personal information or direct knowledge of individual names. However, I can suggest some ways for you to find the meaning and significance of your name.\n",
      "\n",
      "You can try searching online for the meaning of your name on websites like Names.org or other similar resources. You can also try searching for your name on social media platforms or online communities to see if anyone else shares your name and what their experiences have been like.\n",
      "\n",
      "If you're curious about the rarity of your name, you can try using tools like How Many of Me to see how many people share your name and what the demographics are.\n",
      "\n",
      "I hope this information is helpful, and I'm happy to provide more suggestions or assistance if you need it.\n"
     ]
    }
   ],
   "source": [
    "responce=graph.invoke({\"messages\" : \"What is My name\"})\n",
    "for m in responce['messages']:\n",
    "    m.pretty_print()"
   ]
  },
  {
   "cell_type": "code",
   "execution_count": 57,
   "id": "e037ac79",
   "metadata": {},
   "outputs": [
    {
     "data": {
      "image/png": "[encoded data removed]",
      "text/plain": [
       "<IPython.core.display.Image object>"
      ]
     },
     "metadata": {},
     "output_type": "display_data"
    }
   ],
   "source": [
    "## StateGraph\n",
    "from langgraph.graph import StateGraph , START , END\n",
    "from langgraph.prebuilt import ToolNode\n",
    "from langgraph.prebuilt import tools_condition\n",
    "from langgraph.checkpoint.memory import MemorySaver #chnage\n",
    "\n",
    "memory = MemorySaver() #change\n",
    "\n",
    "# Node Defination \n",
    "def tool_calling_llm(state:State):\n",
    "    return {\"messages\":[llm_with_tool.invoke(state[\"messages\"])]}\n",
    "\n",
    "# Graph\n",
    "builder=StateGraph(State)\n",
    "builder.add_node(\"tool_calling_llm\",tool_calling_llm)\n",
    "builder.add_node(\"tools\",ToolNode(tools))\n",
    "\n",
    "# Add Edges \n",
    "builder.add_edge(START,\"tool_calling_llm\")\n",
    "builder.add_conditional_edges(\n",
    "    \"tool_calling_llm\",\n",
    "    # If the latest message (result) from assistant is a tool call - > tools_condition routes to tools\n",
    "    # If the latest message (result) from assistant is a not a tool call - > tools_condition routes to END\n",
    "    tools_condition\n",
    ")\n",
    " \n",
    "builder.add_edge(\"tools\",\"tool_calling_llm\") #change\n",
    "builder.add_edge(\"tool_calling_llm\",END) # change\n",
    "## Compile the graph\n",
    "graph=builder.compile(checkpointer=memory)\n",
    "\n",
    "display(Image(graph.get_graph().draw_mermaid_png())) "
   ]
  },
  {
   "cell_type": "code",
   "execution_count": 71,
   "id": "3c97ac14",
   "metadata": {},
   "outputs": [
    {
     "data": {
      "text/plain": [
       "{'messages': [HumanMessage(content='My name is Namit', additional_kwargs={}, response_metadata={}, id='342f318e-5b72-4bc7-b9be-267325ad151e'),\n",
       "  AIMessage(content=\"Nice to meet you, Namit! I'm here to help you with your task. Can you please provide the input for the tool usage or the question you'd like me to answer directly?\", additional_kwargs={}, response_metadata={'token_usage': {'completion_tokens': 40, 'prompt_tokens': 2204, 'total_tokens': 2244, 'completion_time': 0.033206563, 'prompt_time': 0.262613489, 'queue_time': 0.05185345000000002, 'total_time': 0.295820052}, 'model_name': 'llama3-8b-8192', 'system_fingerprint': 'fp_24ec19897b', 'finish_reason': 'stop', 'logprobs': None}, id='run--ca964ade-e946-4683-b041-02edf858141c-0', usage_metadata={'input_tokens': 2204, 'output_tokens': 40, 'total_tokens': 2244})]}"
      ]
     },
     "execution_count": 71,
     "metadata": {},
     "output_type": "execute_result"
    }
   ],
   "source": [
    "config={\"configurable\":{'thread_id':\"1\"}}\n",
    "\n",
    "responce=graph.invoke({\"messages\":\"My name is Namit\"},config=config)\n",
    "responce"
   ]
  },
  {
   "cell_type": "code",
   "execution_count": 72,
   "id": "c6f7e65e",
   "metadata": {},
   "outputs": [
    {
     "data": {
      "text/plain": [
       "\"Nice to meet you, Namit! I'm here to help you with your task. Can you please provide the input for the tool usage or the question you'd like me to answer directly?\""
      ]
     },
     "execution_count": 72,
     "metadata": {},
     "output_type": "execute_result"
    }
   ],
   "source": [
    "responce['messages'][-1].content"
   ]
  },
  {
   "cell_type": "code",
   "execution_count": 75,
   "id": "449d3e2e",
   "metadata": {},
   "outputs": [],
   "source": [
    "responce=graph.invoke({\"messages\":\"tell  My Name\"},config=config)"
   ]
  },
  {
   "cell_type": "code",
   "execution_count": 76,
   "id": "8e3a2dd2",
   "metadata": {},
   "outputs": [
    {
     "data": {
      "text/plain": [
       "'I think there\\'s been a misunderstanding! The tool call id \"0q62893vp\" doesn\\'t seem to be related to the query \"My Name\". The tool \"multiply\" is a simple arithmetic operation that multiplies two numbers, and the result is 1.\\n\\nSince we didn\\'t get any useful information about your name, I\\'ll try again. Can you please tell me more about what you\\'re looking for? Are you looking for information about the meaning or origin of your name, Namit? Or is there something else I can help you with?'"
      ]
     },
     "execution_count": 76,
     "metadata": {},
     "output_type": "execute_result"
    }
   ],
   "source": [
    "responce['messages'][-1].content"
   ]
  },
  {
   "cell_type": "markdown",
   "id": "b4d61d4d",
   "metadata": {},
   "source": [
    "# Streaming"
   ]
  },
  {
   "cell_type": "code",
   "execution_count": 77,
   "id": "94692cbb",
   "metadata": {},
   "outputs": [],
   "source": [
    "from langgraph.checkpoint.memory import MemorySaver\n",
    "memory=MemorySaver()"
   ]
  },
  {
   "cell_type": "code",
   "execution_count": 78,
   "id": "b6dae8ef",
   "metadata": {},
   "outputs": [],
   "source": [
    "def superbot(state:State):\n",
    "    return {'messages':[llm.invoke(state['messages'])]}"
   ]
  },
  {
   "cell_type": "code",
   "execution_count": 79,
   "id": "f92a93d4",
   "metadata": {},
   "outputs": [
    {
     "data": {
      "image/png": "[encoded data removed]",
      "text/plain": [
       "<IPython.core.display.Image object>"
      ]
     },
     "metadata": {},
     "output_type": "display_data"
    }
   ],
   "source": [
    "graph=StateGraph(State)\n",
    "\n",
    "#node \n",
    "graph.add_node(\"Superbot\",superbot)\n",
    "\n",
    "#edge\n",
    "graph.add_edge(START,\"Superbot\")\n",
    "graph.add_edge(\"Superbot\",END)\n",
    "\n",
    "graph_builder=graph.compile(checkpointer=memory)\n",
    "\n",
    "## Display\n",
    "from IPython.display import display , Image\n",
    "display(Image(graph_builder.get_graph().draw_mermaid_png()))"
   ]
  },
  {
   "cell_type": "code",
   "execution_count": 81,
   "id": "cdd76f33",
   "metadata": {},
   "outputs": [
    {
     "data": {
      "text/plain": [
       "{'messages': [HumanMessage(content='Hii, My name is Namit And I Like Cricket', additional_kwargs={}, response_metadata={}, id='4df65115-4f36-4036-87b5-dc35b84b2f66'),\n",
       "  AIMessage(content=\"Hello Namit! Nice to meet you! Cricket is a fantastic sport, isn't it? Do you have a favorite team or player? Have you ever played cricket yourself?\", additional_kwargs={}, response_metadata={'token_usage': {'completion_tokens': 36, 'prompt_tokens': 22, 'total_tokens': 58, 'completion_time': 0.030336747, 'prompt_time': 0.004148945, 'queue_time': 0.047092857, 'total_time': 0.034485692}, 'model_name': 'llama3-8b-8192', 'system_fingerprint': 'fp_24ec19897b', 'finish_reason': 'stop', 'logprobs': None}, id='run--772e68be-a470-4c6c-b940-7d31cfd9d631-0', usage_metadata={'input_tokens': 22, 'output_tokens': 36, 'total_tokens': 58})]}"
      ]
     },
     "execution_count": 81,
     "metadata": {},
     "output_type": "execute_result"
    }
   ],
   "source": [
    "## Invocation \n",
    "\n",
    "config={\"configurable\":{'thread_id':\"1\"}}\n",
    "\n",
    "graph_builder.invoke({\"messages\":\"Hii, My name is Namit And I Like Cricket\"},config)\n"
   ]
  },
  {
   "cell_type": "markdown",
   "id": "ad70bba6",
   "metadata": {},
   "source": [
    "### Streaming\n",
    "Methods: . stream() and astream()\n",
    "- These methods are sync and async methods for streaming back results.\n",
    "\n",
    "Additional parameters in streaming modes for graph state\n",
    "\n",
    "- **values**: This streams the full state of the graph after each node is called.\n",
    "- **updates** : This streams updates to the state of the graph after each node is called."
   ]
  },
  {
   "cell_type": "code",
   "execution_count": 82,
   "id": "17777c92",
   "metadata": {},
   "outputs": [
    {
     "name": "stdout",
     "output_type": "stream",
     "text": [
      "{'Superbot': {'messages': [AIMessage(content=\"Hi Namit! Nice to meet you! It's great to know that you like cricket! Which team do you support? Or do you have a favorite player?\", additional_kwargs={}, response_metadata={'token_usage': {'completion_tokens': 34, 'prompt_tokens': 22, 'total_tokens': 56, 'completion_time': 0.029329128, 'prompt_time': 0.00953888, 'queue_time': 0.34332332, 'total_time': 0.038868008}, 'model_name': 'llama3-8b-8192', 'system_fingerprint': 'fp_24ec19897b', 'finish_reason': 'stop', 'logprobs': None}, id='run--2ebe1610-78cd-476b-bc26-c9219443dd6e-0', usage_metadata={'input_tokens': 22, 'output_tokens': 34, 'total_tokens': 56})]}}\n"
     ]
    }
   ],
   "source": [
    "## Create a thread \n",
    "config={\"configurable\":{'thread_id':\"3\"}}\n",
    "\n",
    "for chunk in graph_builder.stream({'messages':\"Hii,My name is Namit And I Like Cricket\"},config,stream_mode=\"updates\"):\n",
    "    print (chunk)\n"
   ]
  },
  {
   "cell_type": "code",
   "execution_count": 83,
   "id": "1c207a1c",
   "metadata": {},
   "outputs": [
    {
     "name": "stdout",
     "output_type": "stream",
     "text": [
      "{'messages': [HumanMessage(content='Hii,My name is Namit And I Like Cricket', additional_kwargs={}, response_metadata={}, id='3bb27b87-63ac-47f2-86cf-37a6608ae498'), AIMessage(content=\"Hi Namit! Nice to meet you! It's great to know that you like cricket! Which team do you support? Or do you have a favorite player?\", additional_kwargs={}, response_metadata={'token_usage': {'completion_tokens': 34, 'prompt_tokens': 22, 'total_tokens': 56, 'completion_time': 0.029329128, 'prompt_time': 0.00953888, 'queue_time': 0.34332332, 'total_time': 0.038868008}, 'model_name': 'llama3-8b-8192', 'system_fingerprint': 'fp_24ec19897b', 'finish_reason': 'stop', 'logprobs': None}, id='run--2ebe1610-78cd-476b-bc26-c9219443dd6e-0', usage_metadata={'input_tokens': 22, 'output_tokens': 34, 'total_tokens': 56}), HumanMessage(content='Hii,My name is Namit And I Like Cricket', additional_kwargs={}, response_metadata={}, id='3d695405-3010-42c7-b4ed-6e10f6a2b417')]}\n",
      "{'messages': [HumanMessage(content='Hii,My name is Namit And I Like Cricket', additional_kwargs={}, response_metadata={}, id='3bb27b87-63ac-47f2-86cf-37a6608ae498'), AIMessage(content=\"Hi Namit! Nice to meet you! It's great to know that you like cricket! Which team do you support? Or do you have a favorite player?\", additional_kwargs={}, response_metadata={'token_usage': {'completion_tokens': 34, 'prompt_tokens': 22, 'total_tokens': 56, 'completion_time': 0.029329128, 'prompt_time': 0.00953888, 'queue_time': 0.34332332, 'total_time': 0.038868008}, 'model_name': 'llama3-8b-8192', 'system_fingerprint': 'fp_24ec19897b', 'finish_reason': 'stop', 'logprobs': None}, id='run--2ebe1610-78cd-476b-bc26-c9219443dd6e-0', usage_metadata={'input_tokens': 22, 'output_tokens': 34, 'total_tokens': 56}), HumanMessage(content='Hii,My name is Namit And I Like Cricket', additional_kwargs={}, response_metadata={}, id='3d695405-3010-42c7-b4ed-6e10f6a2b417'), AIMessage(content=\"Hi Namit! Nice to meet you! It's great to know that you like cricket! Which team do you support? Or do you have a favorite player?\", additional_kwargs={}, response_metadata={'token_usage': {'completion_tokens': 34, 'prompt_tokens': 77, 'total_tokens': 111, 'completion_time': 0.02980589, 'prompt_time': 0.00951454, 'queue_time': 0.04529466, 'total_time': 0.03932043}, 'model_name': 'llama3-8b-8192', 'system_fingerprint': 'fp_24ec19897b', 'finish_reason': 'stop', 'logprobs': None}, id='run--99f04ee8-0c62-426d-8069-f46e5b376499-0', usage_metadata={'input_tokens': 77, 'output_tokens': 34, 'total_tokens': 111})]}\n"
     ]
    }
   ],
   "source": [
    "for chunk in graph_builder.stream({'messages':\"Hii,My name is Namit And I Like Cricket\"},config,stream_mode=\"values\"):\n",
    "    print (chunk)"
   ]
  },
  {
   "cell_type": "code",
   "execution_count": 84,
   "id": "93913d55",
   "metadata": {},
   "outputs": [
    {
     "name": "stdout",
     "output_type": "stream",
     "text": [
      "{'Superbot': {'messages': [AIMessage(content=\"Nice to meet you, Namit! Cricket is a fantastic sport, isn't it? Do you have a favorite team or player? Are you a die-hard fan of the Indian cricket team or do you support another team?\", additional_kwargs={}, response_metadata={'token_usage': {'completion_tokens': 46, 'prompt_tokens': 22, 'total_tokens': 68, 'completion_time': 0.039960607, 'prompt_time': 0.004734787, 'queue_time': 0.045313105, 'total_time': 0.044695394}, 'model_name': 'llama3-8b-8192', 'system_fingerprint': 'fp_24ec19897b', 'finish_reason': 'stop', 'logprobs': None}, id='run--c95a1ee8-a002-4f21-9a43-0f79fd727448-0', usage_metadata={'input_tokens': 22, 'output_tokens': 46, 'total_tokens': 68})]}}\n"
     ]
    }
   ],
   "source": [
    "## Create a thread \n",
    "config={\"configurable\":{'thread_id':\"4\"}}\n",
    "\n",
    "for chunk in graph_builder.stream({'messages':\"Hii,My name is Namit And I Like Cricket\"},config,stream_mode=\"updates\"):\n",
    "    print (chunk)"
   ]
  },
  {
   "cell_type": "code",
   "execution_count": 87,
   "id": "27e9f495",
   "metadata": {},
   "outputs": [
    {
     "name": "stdout",
     "output_type": "stream",
     "text": [
      "{'messages': [HumanMessage(content='Hii,My name is Namit And I Like Cricket', additional_kwargs={}, response_metadata={}, id='41157532-5d2d-4748-8056-58cd494217fc'), AIMessage(content=\"Nice to meet you, Namit! Cricket is a fantastic sport, isn't it? Do you have a favorite team or player? Are you a die-hard fan of the Indian cricket team or do you support another team?\", additional_kwargs={}, response_metadata={'token_usage': {'completion_tokens': 46, 'prompt_tokens': 22, 'total_tokens': 68, 'completion_time': 0.039960607, 'prompt_time': 0.004734787, 'queue_time': 0.045313105, 'total_time': 0.044695394}, 'model_name': 'llama3-8b-8192', 'system_fingerprint': 'fp_24ec19897b', 'finish_reason': 'stop', 'logprobs': None}, id='run--c95a1ee8-a002-4f21-9a43-0f79fd727448-0', usage_metadata={'input_tokens': 22, 'output_tokens': 46, 'total_tokens': 68}), HumanMessage(content='I also Like Football', additional_kwargs={}, response_metadata={}, id='630c8c79-6fba-4dcc-be32-b4de71fcb0d3'), HumanMessage(content='I also Like Football', additional_kwargs={}, response_metadata={}, id='220916ea-4558-458d-8082-203158407324'), HumanMessage(content='I also Like Football', additional_kwargs={}, response_metadata={}, id='fcb5f996-8070-43f5-bb28-ab143a9b49cf')]}\n",
      "{'messages': [HumanMessage(content='Hii,My name is Namit And I Like Cricket', additional_kwargs={}, response_metadata={}, id='41157532-5d2d-4748-8056-58cd494217fc'), AIMessage(content=\"Nice to meet you, Namit! Cricket is a fantastic sport, isn't it? Do you have a favorite team or player? Are you a die-hard fan of the Indian cricket team or do you support another team?\", additional_kwargs={}, response_metadata={'token_usage': {'completion_tokens': 46, 'prompt_tokens': 22, 'total_tokens': 68, 'completion_time': 0.039960607, 'prompt_time': 0.004734787, 'queue_time': 0.045313105, 'total_time': 0.044695394}, 'model_name': 'llama3-8b-8192', 'system_fingerprint': 'fp_24ec19897b', 'finish_reason': 'stop', 'logprobs': None}, id='run--c95a1ee8-a002-4f21-9a43-0f79fd727448-0', usage_metadata={'input_tokens': 22, 'output_tokens': 46, 'total_tokens': 68}), HumanMessage(content='I also Like Football', additional_kwargs={}, response_metadata={}, id='630c8c79-6fba-4dcc-be32-b4de71fcb0d3'), HumanMessage(content='I also Like Football', additional_kwargs={}, response_metadata={}, id='220916ea-4558-458d-8082-203158407324'), HumanMessage(content='I also Like Football', additional_kwargs={}, response_metadata={}, id='fcb5f996-8070-43f5-bb28-ab143a9b49cf'), AIMessage(content='It seems like you really enjoy football too! Do you have a favorite football team or player? Are you more into the Premier League, La Liga, or maybe the Champions League?', additional_kwargs={}, response_metadata={'token_usage': {'completion_tokens': 37, 'prompt_tokens': 109, 'total_tokens': 146, 'completion_time': 0.032285505, 'prompt_time': 0.012781286, 'queue_time': 0.045161084000000004, 'total_time': 0.045066791}, 'model_name': 'llama3-8b-8192', 'system_fingerprint': 'fp_24ec19897b', 'finish_reason': 'stop', 'logprobs': None}, id='run--4cd62c5c-d012-40e6-83b4-3d385cd8a249-0', usage_metadata={'input_tokens': 109, 'output_tokens': 37, 'total_tokens': 146})]}\n"
     ]
    }
   ],
   "source": [
    "for chunk in graph_builder.stream({'messages':\"I also Like Football\"},config,stream_mode=\"values\"):\n",
    "    print (chunk)"
   ]
  },
  {
   "cell_type": "code",
   "execution_count": null,
   "id": "e2c72935",
   "metadata": {},
   "outputs": [],
   "source": []
  }
 ],
 "metadata": {
  "kernelspec": {
   "display_name": "LangGraph Course",
   "language": "python",
   "name": "python3"
  },
  "language_info": {
   "codemirror_mode": {
    "name": "ipython",
    "version": 3
   },
   "file_extension": ".py",
   "mimetype": "text/x-python",
   "name": "python",
   "nbconvert_exporter": "python",
   "pygments_lexer": "ipython3",
   "version": "3.12.10"
  }
 },
 "nbformat": 4,
 "nbformat_minor": 5
}
